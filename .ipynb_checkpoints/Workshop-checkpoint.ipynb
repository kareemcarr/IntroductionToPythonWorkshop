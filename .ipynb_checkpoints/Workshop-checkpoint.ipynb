{
 "cells": [
  {
   "cell_type": "markdown",
   "metadata": {},
   "source": [
    "<font color=#505050 size=3 face='arial black'>\n",
    "\n",
    "<font color=#505050 size=4 face='arial black'>Workshop Materials: http://bit.ly/1Kkhu3A </font><br><br>\n",
    "\n",
    "<br><br><center><font color=#505050 size=18 face='arial black'>Introduction to Python Workshop</font></center>  <br><br><center><font color=#13577F size=5 face='arial black'>Kareem Carr</font></center><br><br><br><br>\n",
    "\n",
    "<font color=#505050 size=5 face='arial black'>Data Science Services @ Harvard </font>\n",
    "<br><br>FREE advice for anybody working on publishable research at Harvard or MIT including undergraduates and graduate students (under guidance of a faculty advisor), postdocs, professors and other affiliates.  Our goal is to increase the level of computational and statistical knowledge across the Harvard and MIT research community.\n",
    "\n",
    "Short consultations with a data scientist on technical issues presenting a barrier to research including problems in <font color=#0E77B8>statistical analysis</font>, <font color=#0E77B8>programming</font>, <font color=#0E77B8>experiment design</font> and <font color=#0E77B8>high performance computing</font>.\n",
    "<br><br><font color=#0E77B8 size=3 face='arial black'>email: </font><a href=\"mailto:help@iq.harvard.edu\">help@iq.harvard.edu</a><br>\n",
    "<font color=#0E77B8 size=3 face='arial black'>website:</font> http://projects.iq.harvard.edu/rtc \n",
    "<br><br><br><br>\n",
    "\n",
    "<font size=5>Why Is Python Good for Data Science?</font>\n",
    "\n",
    "Python is a good language to learn if you want to:\n",
    "\n",
    "<ol>\n",
    "<li> wrangle of messy or large data</li>\n",
    "<br>\n",
    "<li> create machine learning modules (http://scikit-learn.org/stable/auto_examples/plot_classifier_comparison.html)</li>\n",
    "<br>\n",
    "<li> document your analyses (http://www.nature.com/news/interactive-notebooks-sharing-the-code-1.16261).</li>\n",
    "<br>\n",
    "<li> create scalable code which performs well in production </li>\n",
    "</ol>\n",
    "\n",
    "<br>\n",
    "\n",
    "<br><font color=#505050 size=5 face='arial black'>Objectives of the Workshop</font><br>\n",
    "<br>\n",
    "<font color=#505050 size=3 face='arial black'>\n",
    "\n",
    "<p>Before leaving the workshop:</p>\n",
    "<ol>\n",
    "\n",
    "<font color=#505050><li>Know how to talk to the python interpreter</li><br></font>\n",
    "\n",
    "<font color=#505050><li>Learn about a few introductory functions and apply them to basic types like ints, floats and strings</li><br></font>\n",
    "\n",
    "<font color=#505050><li>Manipulate lists and dictionaries</li><br></font>\n",
    "\n",
    "<font color=#505050><li>Read data into python from the internet and from files</li><br></font>\n",
    "\n",
    "<font color=#505050><li>Import additional commands into python</li><br></font>\n",
    "</ol>\n",
    "\n",
    "</font>\n",
    "\n",
    "</font>\n",
    "<br>\n",
    "<br>\n",
    "<br><br><center><font color=#13577F size=6 face='arial black'>The Basics of Python</font></center><br><br>\n",
    "<br>\n",
    "<font color=#505050 size=3 face='arial black'> This workshop uses <font color=\"#13577F\">ipython notebook</font>. Howevever, there are many other ways of using Python such as spyder (similar interface to R).\n",
    "<br><br>\n",
    "The ipython notebook command starts up a local webserver that understands python commands. By default, <font color=\"#13577F\">only you</font> can see it and use it.\n",
    "<br>\n",
    "<font color=#505050 size=3 face='arial black'> During the exercise if you would like to insert a cell so you can add your own commands press <font color=\"#13577F\">ctrl-m</font> and then press <font color=\"#13577F\">b</font>. You can also click the plus symbol in the menu above.\n",
    "<br>\n",
    "<br>\n",
    "<br>\n",
    "<font color=#505050 size=4 face='arial black'>Getting started with python.</font> <br>"
   ]
  },
  {
   "cell_type": "code",
   "execution_count": null,
   "metadata": {
    "collapsed": false
   },
   "outputs": [],
   "source": [
    "print \"Hello World!\""
   ]
  },
  {
   "cell_type": "code",
   "execution_count": null,
   "metadata": {
    "collapsed": true
   },
   "outputs": [],
   "source": [
    "#this is how you write a comment in Python"
   ]
  },
  {
   "cell_type": "code",
   "execution_count": 13,
   "metadata": {
    "collapsed": false,
    "scrolled": true
   },
   "outputs": [
    {
     "name": "stdout",
     "output_type": "stream",
     "text": [
      "Simple print statement.\n"
     ]
    }
   ],
   "source": [
    "%run simple.py"
   ]
  },
  {
   "cell_type": "markdown",
   "metadata": {},
   "source": [
    "<font color=#505050 size=4 face='arial black'>A few simple Python statements</font> <br>"
   ]
  },
  {
   "cell_type": "code",
   "execution_count": 23,
   "metadata": {
    "collapsed": false
   },
   "outputs": [
    {
     "data": {
      "text/plain": [
       "56857785857659659658596"
      ]
     },
     "execution_count": 23,
     "metadata": {},
     "output_type": "execute_result"
    }
   ],
   "source": [
    "28428892928829829829298*2 #times"
   ]
  },
  {
   "cell_type": "code",
   "execution_count": 24,
   "metadata": {
    "collapsed": false
   },
   "outputs": [
    {
     "data": {
      "text/plain": [
       "808201953158870699915835336354680747819172804"
      ]
     },
     "execution_count": 24,
     "metadata": {},
     "output_type": "execute_result"
    }
   ],
   "source": [
    "28428892928829829829298**2 #squared"
   ]
  },
  {
   "cell_type": "code",
   "execution_count": 1,
   "metadata": {
    "collapsed": false
   },
   "outputs": [
    {
     "data": {
      "text/plain": [
       "5.612"
      ]
     },
     "execution_count": 1,
     "metadata": {},
     "output_type": "execute_result"
    }
   ],
   "source": [
    "2.51+3.102"
   ]
  },
  {
   "cell_type": "code",
   "execution_count": 1,
   "metadata": {
    "collapsed": false
   },
   "outputs": [
    {
     "data": {
      "text/plain": [
       "42"
      ]
     },
     "execution_count": 1,
     "metadata": {},
     "output_type": "execute_result"
    }
   ],
   "source": [
    "min(42,53) #minimum"
   ]
  },
  {
   "cell_type": "code",
   "execution_count": 2,
   "metadata": {
    "collapsed": false
   },
   "outputs": [
    {
     "data": {
      "text/plain": [
       "53"
      ]
     },
     "execution_count": 2,
     "metadata": {},
     "output_type": "execute_result"
    }
   ],
   "source": [
    "max(42,53) #maximum"
   ]
  },
  {
   "cell_type": "code",
   "execution_count": 4,
   "metadata": {
    "collapsed": false
   },
   "outputs": [
    {
     "data": {
      "text/plain": [
       "12"
      ]
     },
     "execution_count": 4,
     "metadata": {},
     "output_type": "execute_result"
    }
   ],
   "source": [
    "len(\"Harry Potter\") #length of the string \"It was the White Rabbit\""
   ]
  },
  {
   "cell_type": "code",
   "execution_count": 11,
   "metadata": {
    "collapsed": false
   },
   "outputs": [
    {
     "data": {
      "text/plain": [
       "4"
      ]
     },
     "execution_count": 11,
     "metadata": {},
     "output_type": "execute_result"
    }
   ],
   "source": [
    "round(4.5) #round values"
   ]
  },
  {
   "cell_type": "code",
   "execution_count": 5,
   "metadata": {
    "collapsed": false,
    "scrolled": true
   },
   "outputs": [
    {
     "data": {
      "text/plain": [
       "True"
      ]
     },
     "execution_count": 5,
     "metadata": {},
     "output_type": "execute_result"
    }
   ],
   "source": [
    "True"
   ]
  },
  {
   "cell_type": "code",
   "execution_count": 6,
   "metadata": {
    "collapsed": false
   },
   "outputs": [
    {
     "data": {
      "text/plain": [
       "False"
      ]
     },
     "execution_count": 6,
     "metadata": {},
     "output_type": "execute_result"
    }
   ],
   "source": [
    "False"
   ]
  },
  {
   "cell_type": "code",
   "execution_count": null,
   "metadata": {
    "collapsed": false
   },
   "outputs": [],
   "source": [
    "4 == 5 #boolean"
   ]
  },
  {
   "cell_type": "code",
   "execution_count": 10,
   "metadata": {
    "collapsed": false
   },
   "outputs": [
    {
     "data": {
      "text/plain": [
       "True"
      ]
     },
     "execution_count": 10,
     "metadata": {},
     "output_type": "execute_result"
    }
   ],
   "source": [
    "(4==4)"
   ]
  },
  {
   "cell_type": "markdown",
   "metadata": {},
   "source": [
    "<font color=#505050 size=3 face='arial black'>From the point of view of the data scientist, Python is a tool for collecting and manipulating data. Most data is in the form of text and numbers.\n",
    "<br><br>\n",
    "For example, there are four basic types of data in python: <font color=#13577F>boolean</font>, <font color=#13577F>strings</font>, <font color=#13577F>floats</font> and <font color=#13577F>integers</font>. Strings are text. Integers are integers, one of the two types of numbers. Floats are the equivalent of decimals.</font>"
   ]
  },
  {
   "cell_type": "code",
   "execution_count": 12,
   "metadata": {
    "collapsed": false
   },
   "outputs": [
    {
     "name": "stdout",
     "output_type": "stream",
     "text": [
      "<type 'int'>\n",
      "<type 'float'>\n",
      "<type 'str'>\n",
      "<type 'bool'>\n",
      "<type 'builtin_function_or_method'>\n"
     ]
    }
   ],
   "source": [
    "print type(24) #integer\n",
    "print type(2.4) #float\n",
    "print type(\"It was the White Rabbit\") #string\n",
    "print type(True) #boolean\n",
    "print type(min) #function"
   ]
  },
  {
   "cell_type": "markdown",
   "metadata": {},
   "source": [
    "<font color=#505050 size=3 face='arial black'> Use variables to provide storage for values</font>"
   ]
  },
  {
   "cell_type": "code",
   "execution_count": null,
   "metadata": {
    "collapsed": false
   },
   "outputs": [],
   "source": [
    "x = 4\n",
    "y = 5\n",
    "z = x+y\n",
    "print x, y, z"
   ]
  },
  {
   "cell_type": "code",
   "execution_count": null,
   "metadata": {
    "collapsed": false
   },
   "outputs": [],
   "source": [
    "x = 5\n",
    "print type(x)\n",
    "x = \"hello\"\n",
    "print type(x)"
   ]
  },
  {
   "cell_type": "markdown",
   "metadata": {},
   "source": [
    "<font color=#505050 size=3 face='arial black'> Operations with strings</font> "
   ]
  },
  {
   "cell_type": "code",
   "execution_count": null,
   "metadata": {
    "collapsed": false
   },
   "outputs": [],
   "source": [
    "\"White\"+\" \"+\"Rabbit\""
   ]
  },
  {
   "cell_type": "code",
   "execution_count": null,
   "metadata": {
    "collapsed": false
   },
   "outputs": [],
   "source": [
    "\"alice\".capitalize()"
   ]
  },
  {
   "cell_type": "code",
   "execution_count": null,
   "metadata": {
    "collapsed": false
   },
   "outputs": [],
   "source": [
    "print \"alice\".upper()"
   ]
  },
  {
   "cell_type": "code",
   "execution_count": null,
   "metadata": {
    "collapsed": false
   },
   "outputs": [],
   "source": [
    "print \"ALICE\".lower()"
   ]
  },
  {
   "cell_type": "code",
   "execution_count": null,
   "metadata": {
    "collapsed": false
   },
   "outputs": [],
   "source": [
    "\"There were doors all around the hall\".count('e')"
   ]
  },
  {
   "cell_type": "code",
   "execution_count": null,
   "metadata": {
    "collapsed": false
   },
   "outputs": [],
   "source": [
    "\"There were doors all round the hall\".count('all')"
   ]
  },
  {
   "cell_type": "code",
   "execution_count": 19,
   "metadata": {
    "collapsed": false
   },
   "outputs": [
    {
     "data": {
      "text/plain": [
       "'My variable contains the value 4.'"
      ]
     },
     "execution_count": 19,
     "metadata": {},
     "output_type": "execute_result"
    }
   ],
   "source": [
    "x=4\n",
    "\"My variable contains the value %d.\" % x"
   ]
  },
  {
   "cell_type": "code",
   "execution_count": 20,
   "metadata": {
    "collapsed": false
   },
   "outputs": [
    {
     "data": {
      "text/plain": [
       "'My variable contains the value 2.600000.'"
      ]
     },
     "execution_count": 20,
     "metadata": {},
     "output_type": "execute_result"
    }
   ],
   "source": [
    "x=2.6\n",
    "\"My variable contains the value %f.\" % x"
   ]
  },
  {
   "cell_type": "code",
   "execution_count": 21,
   "metadata": {
    "collapsed": false
   },
   "outputs": [
    {
     "data": {
      "text/plain": [
       "'My variable contains the value cat.'"
      ]
     },
     "execution_count": 21,
     "metadata": {},
     "output_type": "execute_result"
    }
   ],
   "source": [
    "x='cat'\n",
    "\"My variable contains the value %s.\" % x"
   ]
  },
  {
   "cell_type": "code",
   "execution_count": null,
   "metadata": {
    "collapsed": false
   },
   "outputs": [],
   "source": [
    "print \"1\\t2\" #\\t is tab"
   ]
  },
  {
   "cell_type": "code",
   "execution_count": null,
   "metadata": {
    "collapsed": false
   },
   "outputs": [],
   "source": [
    "print \"   White Rabbit   \".strip()\n",
    "print \"\\t White Rabbit  \\t \".strip('\\t ')"
   ]
  },
  {
   "cell_type": "code",
   "execution_count": null,
   "metadata": {
    "collapsed": false
   },
   "outputs": [],
   "source": [
    "\"Rabbit\".startswith(\"R\")"
   ]
  },
  {
   "cell_type": "code",
   "execution_count": null,
   "metadata": {
    "collapsed": false
   },
   "outputs": [],
   "source": [
    "\"Rabbit\".endswith(\"t\")"
   ]
  },
  {
   "cell_type": "code",
   "execution_count": null,
   "metadata": {
    "collapsed": false
   },
   "outputs": [],
   "source": [
    "print \"a\" in \"Rabbit\" #returns a boolean \n",
    "print \"doors\" in \"There were doors all round the hall\" #returns a boolean"
   ]
  },
  {
   "cell_type": "markdown",
   "metadata": {},
   "source": [
    "<font color=#505050 size=4 face='arial black'>Getting more functions using modules</font> <br>"
   ]
  },
  {
   "cell_type": "markdown",
   "metadata": {},
   "source": [
    "<font color=#505050 size=3 face='arial black'>You can use the import statement to get more variables in python</font>"
   ]
  },
  {
   "cell_type": "markdown",
   "metadata": {},
   "source": [
    "### <font color=#505050 size=4 face='arial black'>string</font> <br>"
   ]
  },
  {
   "cell_type": "code",
   "execution_count": 8,
   "metadata": {
    "collapsed": false
   },
   "outputs": [],
   "source": [
    "#https://docs.python.org/2/library/string.html\n",
    "import string\n",
    "\n",
    "print string.punctuation\n",
    "print string.digits\n",
    "print string.ascii_letters"
   ]
  },
  {
   "cell_type": "markdown",
   "metadata": {},
   "source": [
    "<font color=#505050 size=3 face='arial black'>You can use the import statement to get more functions in python as well</font>"
   ]
  },
  {
   "cell_type": "markdown",
   "metadata": {},
   "source": [
    "### <font color=#505050 size=4 face='arial black'>math</font> <br>"
   ]
  },
  {
   "cell_type": "code",
   "execution_count": 10,
   "metadata": {
    "collapsed": false
   },
   "outputs": [],
   "source": [
    "#https://docs.python.org/2/library/math.html\n",
    "import math\n",
    "\n",
    "print math.pi\n",
    "print math.log(0.2)\n",
    "print math.exp(4)"
   ]
  },
  {
   "cell_type": "markdown",
   "metadata": {},
   "source": [
    "### <font color=#505050 size=4 face='arial black'>random</font> <br>"
   ]
  },
  {
   "cell_type": "code",
   "execution_count": null,
   "metadata": {
    "collapsed": false
   },
   "outputs": [],
   "source": [
    "#https://docs.python.org/2/library/random.html\n",
    "import random\n",
    "\n",
    "print random.random() # random real number between 0 and 1\n",
    "print random.randint(0,5) #random integer between 0 and 5"
   ]
  },
  {
   "cell_type": "markdown",
   "metadata": {},
   "source": [
    "### <font color=#505050 size=4 face='arial black'>user-defined functions</font> <br>"
   ]
  },
  {
   "cell_type": "markdown",
   "metadata": {},
   "source": [
    "<font color=#505050 size=3 face='arial black'>Whitespace is important in python. One must indent after certain special keywords, and it is important to be consistent about the use of tabs vs. spaces. I recommend always indenting with spaces.</font>"
   ]
  },
  {
   "cell_type": "code",
   "execution_count": 4,
   "metadata": {
    "collapsed": false
   },
   "outputs": [
    {
     "name": "stdout",
     "output_type": "stream",
     "text": [
      "2\n"
     ]
    }
   ],
   "source": [
    "def f(x):\n",
    "    return x\n",
    "\n",
    "print f(2)"
   ]
  },
  {
   "cell_type": "code",
   "execution_count": 5,
   "metadata": {
    "collapsed": false
   },
   "outputs": [
    {
     "name": "stdout",
     "output_type": "stream",
     "text": [
      "4\n"
     ]
    }
   ],
   "source": [
    "def f(x):\n",
    "    answer=2*x\n",
    "    return answer\n",
    "\n",
    "print f(2)"
   ]
  },
  {
   "cell_type": "code",
   "execution_count": 6,
   "metadata": {
    "collapsed": false
   },
   "outputs": [
    {
     "name": "stdout",
     "output_type": "stream",
     "text": [
      "5\n"
     ]
    }
   ],
   "source": [
    "def f(x,y):\n",
    "    return x+y\n",
    "\n",
    "print f(2,3)"
   ]
  },
  {
   "cell_type": "code",
   "execution_count": 15,
   "metadata": {
    "collapsed": false
   },
   "outputs": [
    {
     "name": "stdout",
     "output_type": "stream",
     "text": [
      "2\n"
     ]
    }
   ],
   "source": [
    "def count_a(sentence):\n",
    "    return sentence.count(\"a\")\n",
    "\n",
    "print count_a(\"This is sentence has two a's.\")"
   ]
  },
  {
   "cell_type": "markdown",
   "metadata": {},
   "source": [
    "<br><i><font color=#13577F size=4 face='consolas'>In the box below, write a function that takes the name of a person eg. John and returns the sentence \"Hello, John! Your name contains 4 characters\"</font></i><br><br>"
   ]
  },
  {
   "cell_type": "code",
   "execution_count": null,
   "metadata": {
    "collapsed": true
   },
   "outputs": [],
   "source": []
  },
  {
   "cell_type": "markdown",
   "metadata": {},
   "source": [
    "<br><br><center><font color=#13577F size=6 face='arial black'>Getting Help</font></center><br><br>"
   ]
  },
  {
   "cell_type": "markdown",
   "metadata": {},
   "source": [
    "<font color=#505050 size=3 face='arial black'>\n",
    "\n",
    "<font size=4>Books</font> <br> \n",
    "\n",
    "<ol>\n",
    "\n",
    "<li><a href=\"http://learnpythonthehardway.org/\">Python the Hard Way</a> </li>\n",
    "\n",
    "<li><a href=\"http://shop.oreilly.com/product/0636920028154.do\">Learning Python</a></li>\n",
    "\n",
    "<li><a href=\"http://shop.oreilly.com/category/browse-subjects/programming/python.do\">Oreilly Books</a></li>\n",
    "\n",
    "<li><a href=\"https://www.packtpub.com/all\">Packt publishing</a></li>\n",
    "\n",
    "</ol>\n",
    "<br>\n",
    "<font size=4>Websites</font>\n",
    "<ol>\n",
    "<li><a href=\"https://www.python.org/\">Python.org</a></li>\n",
    "<li><a href=\"http://stackoverflow.com/\">Stack Overflow</a></li>\n",
    "</ol>\n",
    "</font>\n",
    "<br>"
   ]
  },
  {
   "cell_type": "code",
   "execution_count": null,
   "metadata": {
    "collapsed": false
   },
   "outputs": [],
   "source": [
    "help(math.exp)"
   ]
  },
  {
   "cell_type": "code",
   "execution_count": null,
   "metadata": {
    "collapsed": false
   },
   "outputs": [],
   "source": [
    "math.exp?"
   ]
  },
  {
   "cell_type": "code",
   "execution_count": null,
   "metadata": {
    "collapsed": false
   },
   "outputs": [],
   "source": [
    "help(\"math\")"
   ]
  },
  {
   "cell_type": "code",
   "execution_count": null,
   "metadata": {
    "collapsed": false
   },
   "outputs": [],
   "source": [
    "dir(math)"
   ]
  },
  {
   "cell_type": "code",
   "execution_count": null,
   "metadata": {
    "collapsed": false
   },
   "outputs": [],
   "source": [
    "import myfile"
   ]
  },
  {
   "cell_type": "code",
   "execution_count": null,
   "metadata": {
    "collapsed": false
   },
   "outputs": [],
   "source": [
    "help(myfile.g)"
   ]
  },
  {
   "cell_type": "code",
   "execution_count": null,
   "metadata": {
    "collapsed": false
   },
   "outputs": [],
   "source": [
    "%quickref #ipython help"
   ]
  },
  {
   "cell_type": "code",
   "execution_count": 24,
   "metadata": {
    "collapsed": false
   },
   "outputs": [],
   "source": [
    "def h(x,y):\n",
    "\t\"\"\"h is a local function that returns x times y \"\"\"\n",
    "\treturn x*y"
   ]
  },
  {
   "cell_type": "code",
   "execution_count": 25,
   "metadata": {
    "collapsed": false
   },
   "outputs": [
    {
     "name": "stdout",
     "output_type": "stream",
     "text": [
      "Help on function h in module __main__:\n",
      "\n",
      "h(x, y)\n",
      "    h is a local function that returns x times y\n",
      "\n"
     ]
    }
   ],
   "source": [
    "help(h)"
   ]
  },
  {
   "cell_type": "markdown",
   "metadata": {},
   "source": [
    "<br><br><center><font color=#13577F size=6 face='arial black'>Containers</font></center><br><br>"
   ]
  },
  {
   "cell_type": "markdown",
   "metadata": {},
   "source": [
    "### <font color=#505050 size=4 face='arial black'>lists</font> <br>"
   ]
  },
  {
   "cell_type": "code",
   "execution_count": null,
   "metadata": {
    "collapsed": false,
    "scrolled": true
   },
   "outputs": [],
   "source": [
    "x = [1,'a',min] # a simple list"
   ]
  },
  {
   "cell_type": "code",
   "execution_count": null,
   "metadata": {
    "collapsed": false
   },
   "outputs": [],
   "source": [
    "print x"
   ]
  },
  {
   "cell_type": "code",
   "execution_count": null,
   "metadata": {
    "collapsed": false
   },
   "outputs": [],
   "source": [
    "range(10)"
   ]
  },
  {
   "cell_type": "code",
   "execution_count": null,
   "metadata": {
    "collapsed": false
   },
   "outputs": [],
   "source": [
    "\"Down, down, down. Would the fall NEVER come to an end!\".split()"
   ]
  },
  {
   "cell_type": "code",
   "execution_count": null,
   "metadata": {
    "collapsed": false
   },
   "outputs": [],
   "source": [
    "sentence = \"Down, down, down. Would the fall NEVER come to an end!\"\n",
    "words = sentence.split()\n",
    "print sentence\n",
    "print type(sentence)\n",
    "print words\n",
    "print type(words)"
   ]
  },
  {
   "cell_type": "code",
   "execution_count": null,
   "metadata": {
    "collapsed": false
   },
   "outputs": [],
   "source": [
    "words = \"Down, down, down. Would the fall NEVER come to an end!\".split()"
   ]
  },
  {
   "cell_type": "code",
   "execution_count": null,
   "metadata": {
    "collapsed": false
   },
   "outputs": [],
   "source": [
    "print \"0   \", words[0]\n",
    "print \"1   \", words[1]\n",
    "print \"9   \", words[9]\n",
    "print \"-1  \", words[-1]\n",
    "print \"1:3 \", words[1:5]\n",
    "print \"1:  \", words[1:]\n",
    "print \"0:3 \", words[0:3]\n",
    "print \":3  \", words[:3]\n",
    "print \"len:\", len(words)"
   ]
  },
  {
   "cell_type": "code",
   "execution_count": null,
   "metadata": {
    "collapsed": false
   },
   "outputs": [],
   "source": [
    "x = ['a','c','e']\n",
    "print \"x:       \", x\n",
    "\n",
    "x.append('b')\n",
    "print \"append b:\", x\n",
    "\n",
    "x.sort()\n",
    "print \"sorted x:\", x\n",
    "\n",
    "x.remove('b')\n",
    "print \"remove b:\", x\n",
    "\n",
    "x.append('b')\n",
    "print \"append a:\", x\n",
    "\n",
    "x.append('c')\n",
    "print \"append c:\", x "
   ]
  },
  {
   "cell_type": "code",
   "execution_count": null,
   "metadata": {
    "collapsed": false
   },
   "outputs": [],
   "source": [
    "original_sentence = \"Down, down, down. Would the fall NEVER come to an end!\"\n",
    "print \"original       :\", original_sentence\n",
    "\n",
    "no_commas = original_sentence.replace(\",\",\"\")\n",
    "print \"no commas      :\", no_commas\n",
    "\n",
    "no_exclamations = no_commas.replace(\"!\",\"\")\n",
    "print \"no exclamations:\", no_exclamations\n",
    "\n",
    "no_stops = no_exclamations.replace(\".\",\"\")\n",
    "print \"no exclamations:\", no_exclamations\n",
    "\n",
    "split_sentence = no_stops.split(\" \")\n",
    "print \"list           :\", split_sentence"
   ]
  },
  {
   "cell_type": "code",
   "execution_count": null,
   "metadata": {
    "collapsed": false
   },
   "outputs": [],
   "source": [
    "original_sentence.replace(\",\",\"\").replace(\"!\",\"\").replace(\".\",\"\")"
   ]
  },
  {
   "cell_type": "code",
   "execution_count": null,
   "metadata": {
    "collapsed": false
   },
   "outputs": [],
   "source": [
    "\"\".join([letter for letter in original_sentence if letter not in string.punctuation])"
   ]
  },
  {
   "cell_type": "code",
   "execution_count": null,
   "metadata": {
    "collapsed": false
   },
   "outputs": [],
   "source": [
    "import re\n",
    "re.sub('[!,.]','',original_sentence)"
   ]
  },
  {
   "cell_type": "markdown",
   "metadata": {},
   "source": [
    "<font color=#505050 size=3 face='arial black'> The FOR loop is a way of specifying an action or process that you want to apply to everything in a list. First lets print everything in a list.</font>\n",
    "<br>"
   ]
  },
  {
   "cell_type": "code",
   "execution_count": null,
   "metadata": {
    "collapsed": false
   },
   "outputs": [],
   "source": [
    "for thing in split_sentence:\n",
    "    print thing "
   ]
  },
  {
   "cell_type": "code",
   "execution_count": null,
   "metadata": {
    "collapsed": false
   },
   "outputs": [],
   "source": [
    "for word in split_sentence:\n",
    "    print word"
   ]
  },
  {
   "cell_type": "code",
   "execution_count": null,
   "metadata": {
    "collapsed": false
   },
   "outputs": [],
   "source": [
    "print random.choice(split_sentence)"
   ]
  },
  {
   "cell_type": "markdown",
   "metadata": {},
   "source": [
    "<font color=#505050 size=3 face='arial black'> The IF STATEMENT is a way of specifying an action that is only performed if certain conditions are met.</font>\n",
    "<br>"
   ]
  },
  {
   "cell_type": "code",
   "execution_count": null,
   "metadata": {
    "collapsed": false
   },
   "outputs": [],
   "source": [
    "for word in split_sentence:\n",
    "    if word.startswith(\"d\"):\n",
    "        print word"
   ]
  },
  {
   "cell_type": "code",
   "execution_count": null,
   "metadata": {
    "collapsed": false
   },
   "outputs": [],
   "source": [
    "[word for word in split_sentence]"
   ]
  },
  {
   "cell_type": "code",
   "execution_count": null,
   "metadata": {
    "collapsed": false
   },
   "outputs": [],
   "source": [
    "[len(word) for word in split_sentence]"
   ]
  },
  {
   "cell_type": "code",
   "execution_count": null,
   "metadata": {
    "collapsed": false
   },
   "outputs": [],
   "source": [
    "words"
   ]
  },
  {
   "cell_type": "code",
   "execution_count": null,
   "metadata": {
    "collapsed": false
   },
   "outputs": [],
   "source": [
    "[len(word) for word in split_sentence if word.startswith('d')]"
   ]
  },
  {
   "cell_type": "markdown",
   "metadata": {},
   "source": [
    "<font color=#505050 size=3 face='arial black'> The filter and map commands are somewhat advanced commands that take lists of items and produce new lists. It's okay if you don't understand them for now.</font>\n",
    "<br>"
   ]
  },
  {
   "cell_type": "code",
   "execution_count": null,
   "metadata": {
    "collapsed": false
   },
   "outputs": [],
   "source": [
    "map(len,split_sentence)"
   ]
  },
  {
   "cell_type": "code",
   "execution_count": null,
   "metadata": {
    "collapsed": false
   },
   "outputs": [],
   "source": [
    "def startswith_d(word):\n",
    "    return word.startswith('d')\n",
    "\n",
    "print filter(startswith_d, split_sentence)\n",
    "print map(len, filter(startswith_d, split_sentence) )"
   ]
  },
  {
   "cell_type": "markdown",
   "metadata": {},
   "source": [
    "<br><i><font color=#13577F size=4 face='consolas'>\n",
    "Create a list that contains the words: Harry, Hermione, Ron, Luna, Remus\n",
    "<ol>\n",
    "<li>print the first element </li><br>\n",
    "<li>print the second element </li><br>\n",
    "<li>print the last element </li><br>\n",
    "<li>write a for loop that prints each name one at a time </li><br>\n",
    "<li>write a for loop that checks if a name starts with an H and stores those names in a new list </li><br>\n",
    "<li>Try to do the same thing using a combination of map and filter statements</li><br>\n",
    "</ol>\n",
    "</font></i><br><br>"
   ]
  },
  {
   "cell_type": "markdown",
   "metadata": {},
   "source": [
    "### <font color=#505050 size=4 face='arial black'>dictionaries</font> <br>"
   ]
  },
  {
   "cell_type": "code",
   "execution_count": null,
   "metadata": {
    "collapsed": true
   },
   "outputs": [],
   "source": [
    "id_number={'Bob':'54201','Alice':'87302'}"
   ]
  },
  {
   "cell_type": "code",
   "execution_count": null,
   "metadata": {
    "collapsed": false
   },
   "outputs": [],
   "source": [
    "print id_number['Bob']"
   ]
  },
  {
   "cell_type": "code",
   "execution_count": null,
   "metadata": {
    "collapsed": false
   },
   "outputs": [],
   "source": [
    "category={}\n",
    "category[\"apple\"]=\"fruit\"\n",
    "category[\"banana\"]=\"fruit\"\n",
    "category[\"cherry\"]=\"fruit\"\n",
    "category[\"celery\"]=\"vegetable\"\n",
    "category[\"tomato\"]=\"vegetable\""
   ]
  },
  {
   "cell_type": "code",
   "execution_count": null,
   "metadata": {
    "collapsed": false
   },
   "outputs": [],
   "source": [
    "category[\"apple\"]"
   ]
  },
  {
   "cell_type": "code",
   "execution_count": null,
   "metadata": {
    "collapsed": false
   },
   "outputs": [],
   "source": [
    "print category.keys()\n",
    "print sorted(category.keys())"
   ]
  },
  {
   "cell_type": "code",
   "execution_count": null,
   "metadata": {
    "collapsed": false
   },
   "outputs": [],
   "source": [
    "category.values()"
   ]
  },
  {
   "cell_type": "code",
   "execution_count": null,
   "metadata": {
    "collapsed": false
   },
   "outputs": [],
   "source": [
    "category.items()"
   ]
  },
  {
   "cell_type": "code",
   "execution_count": null,
   "metadata": {
    "collapsed": false
   },
   "outputs": [],
   "source": [
    "print category"
   ]
  },
  {
   "cell_type": "code",
   "execution_count": null,
   "metadata": {
    "collapsed": false
   },
   "outputs": [],
   "source": [
    "data = category.items()\n",
    "print data"
   ]
  },
  {
   "cell_type": "code",
   "execution_count": null,
   "metadata": {
    "collapsed": false
   },
   "outputs": [],
   "source": [
    "data[0]"
   ]
  },
  {
   "cell_type": "code",
   "execution_count": null,
   "metadata": {
    "collapsed": false
   },
   "outputs": [],
   "source": [
    "print data[0][0]\n",
    "print data[0][1]"
   ]
  },
  {
   "cell_type": "markdown",
   "metadata": {},
   "source": [
    "### <font color=#505050 size=4 face='arial black'>numpy arrays</font> <br>"
   ]
  },
  {
   "cell_type": "code",
   "execution_count": null,
   "metadata": {
    "collapsed": false
   },
   "outputs": [],
   "source": [
    "#http://wiki.scipy.org/Tentative_NumPy_Tutorial#head-6a1bc005bd80e1b19f812e1e64e0d25d50f99fe2\n",
    "import numpy as np"
   ]
  },
  {
   "cell_type": "code",
   "execution_count": null,
   "metadata": {
    "collapsed": false
   },
   "outputs": [],
   "source": [
    "print [1,2,3,4]+[5,6,7,8]\n",
    "print [1,2,3,4]+['a','b','c','d']\n",
    "\n",
    "x = [1,2,3,4]\n",
    "y = np.array(x)\n",
    "\n",
    "print type(x)\n",
    "print type(y)"
   ]
  },
  {
   "cell_type": "code",
   "execution_count": null,
   "metadata": {
    "collapsed": false
   },
   "outputs": [],
   "source": [
    "np.array([1,2,3,4])+np.array([5,6,7,8])"
   ]
  },
  {
   "cell_type": "code",
   "execution_count": null,
   "metadata": {
    "collapsed": false
   },
   "outputs": [],
   "source": [
    "np.random.random(10)"
   ]
  },
  {
   "cell_type": "code",
   "execution_count": null,
   "metadata": {
    "collapsed": false
   },
   "outputs": [],
   "source": [
    "np.mean(np.random.random(1000))"
   ]
  },
  {
   "cell_type": "markdown",
   "metadata": {},
   "source": [
    "<br><br><center><font color=#13577F size=6 face='arial black'>Manipulating External Data</font></center><br><br>"
   ]
  },
  {
   "cell_type": "markdown",
   "metadata": {},
   "source": [
    "<font color=#505050 size=4 face='arial black'>reading and writing files</font>\n",
    "<br>"
   ]
  },
  {
   "cell_type": "code",
   "execution_count": null,
   "metadata": {
    "collapsed": false
   },
   "outputs": [],
   "source": [
    "file = open(\"AliceInWonderland.txt\")"
   ]
  },
  {
   "cell_type": "code",
   "execution_count": null,
   "metadata": {
    "collapsed": false
   },
   "outputs": [],
   "source": [
    "print type(file)\n",
    "print file"
   ]
  },
  {
   "cell_type": "code",
   "execution_count": null,
   "metadata": {
    "collapsed": false
   },
   "outputs": [],
   "source": [
    "text = file.read()"
   ]
  },
  {
   "cell_type": "code",
   "execution_count": null,
   "metadata": {
    "collapsed": false
   },
   "outputs": [],
   "source": [
    "text[0:70]"
   ]
  },
  {
   "cell_type": "code",
   "execution_count": null,
   "metadata": {
    "collapsed": false
   },
   "outputs": [],
   "source": [
    "file = open(\"AliceInWonderland.txt\")"
   ]
  },
  {
   "cell_type": "code",
   "execution_count": null,
   "metadata": {
    "collapsed": false
   },
   "outputs": [],
   "source": [
    "file.readline()"
   ]
  },
  {
   "cell_type": "code",
   "execution_count": null,
   "metadata": {
    "collapsed": false
   },
   "outputs": [],
   "source": [
    "lines = file.readlines()"
   ]
  },
  {
   "cell_type": "code",
   "execution_count": null,
   "metadata": {
    "collapsed": false
   },
   "outputs": [],
   "source": [
    "lines[0:3]"
   ]
  },
  {
   "cell_type": "code",
   "execution_count": null,
   "metadata": {
    "collapsed": false
   },
   "outputs": [],
   "source": [
    "file = open(\"AliceInWonderland.txt\")\n",
    "text = file.readlines()\n",
    "for line in text:\n",
    "    if line.startswith('At'): print line"
   ]
  },
  {
   "cell_type": "code",
   "execution_count": null,
   "metadata": {
    "collapsed": false
   },
   "outputs": [],
   "source": [
    "file = open(\"AliceInWonderland.txt\")\n",
    "text = file.read()\n",
    "text = text.split()\n",
    "print len(text)\n",
    "print np.mean( map(len,text) ) # mean word length"
   ]
  },
  {
   "cell_type": "code",
   "execution_count": null,
   "metadata": {
    "collapsed": false
   },
   "outputs": [],
   "source": [
    "set(['a','b','a','c','c','a'])"
   ]
  },
  {
   "cell_type": "code",
   "execution_count": null,
   "metadata": {
    "collapsed": false
   },
   "outputs": [],
   "source": [
    "file = open(\"AliceInWonderland.txt\")\n",
    "text = file.read()\n",
    "text = text.split()\n",
    "text = set(text)\n",
    "print len(text)"
   ]
  },
  {
   "cell_type": "markdown",
   "metadata": {},
   "source": [
    "<font color=#505050 size=4 face='arial black'>accessing webpages</font>\n",
    "<br>"
   ]
  },
  {
   "cell_type": "code",
   "execution_count": null,
   "metadata": {
    "collapsed": false
   },
   "outputs": [],
   "source": [
    "#https://docs.python.org/2/library/urllib2.html\n",
    "import urllib2\n",
    "#Project Gutenberg. Copy of Alice in Wonderland\n",
    "#http://www.gutenberg.org/cache/epub/11/pg11.txt\n",
    "webpage = urllib2.urlopen(\"http://www.gutenberg.org/cache/epub/11/pg11.txt\")"
   ]
  },
  {
   "cell_type": "code",
   "execution_count": null,
   "metadata": {
    "collapsed": false
   },
   "outputs": [],
   "source": [
    "text = webpage.readlines()\n",
    "for line in text:\n",
    "    if line.startswith('At'): print line"
   ]
  },
  {
   "cell_type": "code",
   "execution_count": null,
   "metadata": {
    "collapsed": false
   },
   "outputs": [],
   "source": [
    "webpage = urllib2.urlopen(\"http://www.gutenberg.org/cache/epub/11/pg11.txt\")\n",
    "outfile = open(\"output.txt\",'w')\n",
    "text = webpage.readlines()\n",
    "for line in text:\n",
    "    if line.startswith('At'):\n",
    "        outfile.write(line)\n",
    "outfile.close()"
   ]
  },
  {
   "cell_type": "markdown",
   "metadata": {},
   "source": [
    "<font color=#505050 size=4 face='arial black'>file system</font>\n",
    "<br>"
   ]
  },
  {
   "cell_type": "code",
   "execution_count": null,
   "metadata": {
    "collapsed": false
   },
   "outputs": [],
   "source": [
    "#https://docs.python.org/2/library/os.html\n",
    "import os"
   ]
  },
  {
   "cell_type": "code",
   "execution_count": null,
   "metadata": {
    "collapsed": false
   },
   "outputs": [],
   "source": [
    "for root, directories, filenames in os.walk(\".\"):\n",
    "    print filenames"
   ]
  },
  {
   "cell_type": "code",
   "execution_count": null,
   "metadata": {
    "collapsed": false
   },
   "outputs": [],
   "source": [
    "for root, directories, filenames in os.walk(\"/Users/kareemcarr/Desktop/IntroductionToPythonWorkshop-master\"):\n",
    "    for filename in filenames:\n",
    "        if filename.endswith(\".py\"): print filename"
   ]
  },
  {
   "cell_type": "code",
   "execution_count": null,
   "metadata": {
    "collapsed": false
   },
   "outputs": [],
   "source": [
    "os.listdir(\".\")"
   ]
  },
  {
   "cell_type": "code",
   "execution_count": null,
   "metadata": {
    "collapsed": false
   },
   "outputs": [],
   "source": [
    "for root, directories, files in os.walk(\".\"):\n",
    "    for file in files:\n",
    "        if file.endswith(\".py\"):\n",
    "            file = open(file)\n",
    "            text = file.read()\n",
    "            print len(text)\n",
    "            file.close()\n"
   ]
  },
  {
   "cell_type": "markdown",
   "metadata": {},
   "source": [
    "## <font color=#505050 size=4 face='arial black'>graphics</font> <br>"
   ]
  },
  {
   "cell_type": "code",
   "execution_count": null,
   "metadata": {
    "collapsed": false
   },
   "outputs": [],
   "source": [
    "#http://matplotlib.org/\n",
    "import matplotlib.pyplot as plt"
   ]
  },
  {
   "cell_type": "code",
   "execution_count": null,
   "metadata": {
    "collapsed": false
   },
   "outputs": [],
   "source": [
    "plt.plot([1,2,3,4],[1,4,9,16])\n",
    "plt.ylabel('y')\n",
    "plt.xlabel('x')\n",
    "plt.show()"
   ]
  },
  {
   "cell_type": "code",
   "execution_count": null,
   "metadata": {
    "collapsed": false
   },
   "outputs": [],
   "source": [
    "%matplotlib inline"
   ]
  },
  {
   "cell_type": "code",
   "execution_count": null,
   "metadata": {
    "collapsed": false
   },
   "outputs": [],
   "source": [
    "plt.plot([1,2,3,4],[1,4,9,16],color=\"red\",linestyle='--')\n",
    "plt.ylabel('y')\n",
    "plt.xlabel('x')\n",
    "plt.show()"
   ]
  },
  {
   "cell_type": "code",
   "execution_count": null,
   "metadata": {
    "collapsed": false
   },
   "outputs": [],
   "source": [
    "plt.plot([1,2,3,4],[1,4,9,16],color=\"red\",linestyle='--')\n",
    "plt.plot([1,2,3,4],[3,7,9,8],color=\"blue\",linestyle='-.')\n",
    "plt.ylabel('y')\n",
    "plt.xlabel('x')\n",
    "plt.show()"
   ]
  },
  {
   "cell_type": "code",
   "execution_count": null,
   "metadata": {
    "collapsed": false
   },
   "outputs": [],
   "source": [
    "file = open(\"AliceInWonderland.txt\")\n",
    "text = file.read()\n",
    "text = text.split()\n",
    "data = map(len, text)\n",
    "plt.hist(data,color=\"#ff6347\")\n",
    "plt.xlim(0,16)\n",
    "plt.show()"
   ]
  },
  {
   "cell_type": "code",
   "execution_count": null,
   "metadata": {
    "collapsed": false
   },
   "outputs": [],
   "source": [
    "np.linspace(0.5,16.5,17)"
   ]
  },
  {
   "cell_type": "code",
   "execution_count": null,
   "metadata": {
    "collapsed": false
   },
   "outputs": [],
   "source": [
    "plt.hist(data,bins=np.linspace(0.5,16.5,17),color=\"#ff6347\")\n",
    "plt.xlim(0,16)\n",
    "plt.title('Distribution of word lengths in P & P')\n",
    "plt.xlabel('word length')\n",
    "plt.ylabel('frequency')\n",
    "plt.show()"
   ]
  },
  {
   "cell_type": "markdown",
   "metadata": {},
   "source": [
    "## <font color=#505050 size=4 face='arial black'>tabular data</font> <br>"
   ]
  },
  {
   "cell_type": "code",
   "execution_count": null,
   "metadata": {
    "collapsed": false
   },
   "outputs": [],
   "source": [
    "#http://pandas.pydata.org/\n",
    "import pandas as pd"
   ]
  },
  {
   "cell_type": "code",
   "execution_count": null,
   "metadata": {
    "collapsed": false
   },
   "outputs": [],
   "source": [
    "data = pd.read_csv(\"iris.csv\")\n",
    "print data"
   ]
  },
  {
   "cell_type": "code",
   "execution_count": null,
   "metadata": {
    "collapsed": false
   },
   "outputs": [],
   "source": [
    "data.columns"
   ]
  },
  {
   "cell_type": "code",
   "execution_count": null,
   "metadata": {
    "collapsed": false
   },
   "outputs": [],
   "source": [
    "data.index"
   ]
  },
  {
   "cell_type": "code",
   "execution_count": null,
   "metadata": {
    "collapsed": false
   },
   "outputs": [],
   "source": [
    "data[\"sepal length\"]"
   ]
  },
  {
   "cell_type": "code",
   "execution_count": null,
   "metadata": {
    "collapsed": false
   },
   "outputs": [],
   "source": [
    "print data.ix[0]\n",
    "print\n",
    "print data.ix[0,1:2]"
   ]
  },
  {
   "cell_type": "code",
   "execution_count": null,
   "metadata": {
    "collapsed": false
   },
   "outputs": [],
   "source": [
    "plt.scatter(data[\"sepal length\"],data[\"sepal width\"],color=\"#ff6347\")"
   ]
  },
  {
   "cell_type": "markdown",
   "metadata": {},
   "source": [
    "<br><center><font color=#13577F size=6 face='arial black'>Objectives of the Workshop</font></center><br>\n",
    "\n",
    "<font color=#505050 size=3 face='arial black'>\n",
    "\n",
    "<p>Before leaving the workshop:</p>\n",
    "<ol>\n",
    "\n",
    "<font color=#505050><li>Know how to talk to the python interpreter</li><br></font>\n",
    "\n",
    "<font color=#505050><li>Learn a few functions and apply them to ints, floats and strings</li><br></font>\n",
    "\n",
    "<font color=#505050><li>Manipulate lists and dictionaries</li><br></font>\n",
    "\n",
    "<font color=#505050><li>Read data into python from the internet and from files</li><br></font>\n",
    "\n",
    "<font color=#505050><li>Import additional commands into python</li><br></font>\n",
    "</ol>\n",
    "\n",
    "</font>"
   ]
  },
  {
   "cell_type": "markdown",
   "metadata": {},
   "source": [
    "<br><br><center><font color=#13577F size=6 face='arial black'>Future directions</font></center><br>\n",
    "\n",
    "<font color=#505050 size=4 face='arial black'>\n",
    "<font color=#13577F size=4 face='arial black'>Style guide</font> <br>\n",
    "&nbsp;&nbsp;&nbsp;&nbsp; official python style guide: <a href=\"http://legacy.python.org/dev/peps/pep-0008/\">PEP-8</a>\n",
    "<br><br>\n",
    "<font color=#13577F>Graphics</font> <br>\n",
    "&nbsp;&nbsp;&nbsp;&nbsp; matplotlib, seaborn <br><br>\n",
    "\n",
    "<font color=#505050 size=4 face='arial black'>\n",
    "<font color=#13577F>Webscraping</font> <br>\n",
    "&nbsp;&nbsp;&nbsp;&nbsp; lxml, BeautifulSoup, scrapy <br><br>\n",
    "\n",
    "<font color=#13577F>Quantitative Data Analysis</font> <br>\n",
    "&nbsp;&nbsp;&nbsp;&nbsp; numpy, scipy, pandas, scikit-learn, statsmodels <br><br>\n",
    "\n",
    "<font color=#13577F>Text analysis</font> <br>\n",
    "&nbsp;&nbsp;&nbsp;&nbsp; pattern, textblob, nltk <br><br>\n",
    "\n",
    "<font color=#13577F>Social Network Analysis</font> <br>\n",
    "&nbsp;&nbsp;&nbsp;&nbsp; networkx <br><br>\n",
    "\n",
    "<font color=#13577F>Using python with R</font> <br>\n",
    "&nbsp;&nbsp;&nbsp;&nbsp; rpy2 <br><br>\n",
    "\n",
    " </font>\n",
    " <br><br>"
   ]
  },
  {
   "cell_type": "markdown",
   "metadata": {},
   "source": [
    "<br><br><br><center><font color=#13577F size=8 face='arial black'>Thanks for listening!</font></center><br><br>"
   ]
  },
  {
   "cell_type": "code",
   "execution_count": null,
   "metadata": {
    "collapsed": true
   },
   "outputs": [],
   "source": []
  }
 ],
 "metadata": {
  "kernelspec": {
   "display_name": "Python 2",
   "language": "python",
   "name": "python2"
  },
  "language_info": {
   "codemirror_mode": {
    "name": "ipython",
    "version": 2
   },
   "file_extension": ".py",
   "mimetype": "text/x-python",
   "name": "python",
   "nbconvert_exporter": "python",
   "pygments_lexer": "ipython2",
   "version": "2.7.11"
  }
 },
 "nbformat": 4,
 "nbformat_minor": 0
}
