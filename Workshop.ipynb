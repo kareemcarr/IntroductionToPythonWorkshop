{
 "metadata": {
  "name": "",
  "signature": "sha256:7fdfca6b1992b1c40f22534f128e984e46b5d8b52f00ecf1b303ad3c6672eb96"
 },
 "nbformat": 3,
 "nbformat_minor": 0,
 "worksheets": [
  {
   "cells": [
    {
     "cell_type": "heading",
     "level": 1,
     "metadata": {},
     "source": [
      "<br><br><center><font color=#505050 size=8 face='arial black'>Introduction to Python Workshop</font></center>\n",
      "\n",
      "<br><br><center><font color=#ff6347 size=5 face='arial black'>Kareem Carr</font></center><br><br>"
     ]
    },
    {
     "cell_type": "markdown",
     "metadata": {},
     "source": [
      "\n",
      "<font color=#505050 size=5 face='arial black'>IQSS Research Consulting Team </font>\n",
      "<br><br><font color=#505050 size=3 face='arial black'> Support for <font color=#ff6347>data analysis</font>, <font color=#ff6347>programming</font>, <font color=#ff6347>experiment design</font> and <font color=#ff6347>distributed computing</font>.</font>\n",
      "<br><br><font color=#505050 size=3 face='arial black'>email: <a href=\"mailto:support@help.hmdc.harvard.edu\">support@help.hmdc.harvard.edu</a></font><br>\n",
      "<font color=#505050 size=3 face='arial black'>website: http://projects.iq.harvard.edu/rtc </font>\n",
      "<br><br><br>"
     ]
    },
    {
     "cell_type": "markdown",
     "metadata": {},
     "source": [
      "<br>\n",
      "<font color=#505050 size=3 face='arial black'>\n",
      "<font size=5>Why learn python?</font>\n",
      "<br><br>\n",
      "<font color=\"#ff6347\">It's a good big data language.</font>\n",
      "<br>\n",
      "<ol>\n",
      "\n",
      "<li> Writing one-off scripts.</li>\n",
      "<li> Moderately big data. (1Gb - 1Tb)</li>\n",
      "<li> Data wrangling.</li>\n",
      "<li> Text manipulation.</li>\n",
      "<li> .</li>\n",
      "<li> Scientific documentation.</li>\n",
      " \n",
      "\n",
      "</ol>\n",
      "</font>\n",
      "<br><br>"
     ]
    },
    {
     "cell_type": "markdown",
     "metadata": {},
     "source": [
      "<br><center><font color=#ff6347 size=6 face='arial black'>Objectives of the Workshop</font></center><br>\n",
      "\n",
      "<font color=#505050 size=3 face='arial black'>\n",
      "\n",
      "<p>Before leaving the workshop:</p>\n",
      "<ol>\n",
      "\n",
      "<font color=#ff6347><li>Know how to talk to the python interpreter</li><br></font>\n",
      "\n",
      "<font color=#505050><li>Know where to find out more about python</li><br></font>\n",
      "\n",
      "<font color=#505050><li>Know how to get data into python, use functions and do a few basic operations</li><br></font>\n",
      "</ol>\n",
      "\n",
      "</font>"
     ]
    },
    {
     "cell_type": "markdown",
     "metadata": {},
     "source": [
      "<br><br><center><font color=#ff6347 size=6 face='arial black'>The Basics of Python</font></center><br><br>"
     ]
    },
    {
     "cell_type": "markdown",
     "metadata": {},
     "source": [
      "<br>\n",
      "<font color=#505050 size=3 face='arial black'> During the exercise if you would like to insert a cell so you can add your own commands press <font color=\"#ff6347\">ctrl-m</font> and then press <font color=\"#ff6347\">b</font>.\n",
      "<br>"
     ]
    },
    {
     "cell_type": "heading",
     "level": 2,
     "metadata": {},
     "source": [
      "<font color=#505050 size=4 face='arial black'>What is the simplest python program?</font>\n",
      "<br>"
     ]
    },
    {
     "cell_type": "code",
     "collapsed": false,
     "input": [
      "print \"Hello World!\""
     ],
     "language": "python",
     "metadata": {},
     "outputs": [
      {
       "output_type": "stream",
       "stream": "stdout",
       "text": [
        "Hello World!\n"
       ]
      }
     ],
     "prompt_number": 1
    },
    {
     "cell_type": "code",
     "collapsed": false,
     "input": [
      "%run simple.py"
     ],
     "language": "python",
     "metadata": {},
     "outputs": []
    },
    {
     "cell_type": "heading",
     "level": 2,
     "metadata": {},
     "source": [
      "<font color=#505050 size=4 face='arial black'>Built-in functions</font>\n",
      "<br>"
     ]
    },
    {
     "cell_type": "markdown",
     "metadata": {},
     "source": [
      "<font color=#505050 size=3 face='arial black'></font>"
     ]
    },
    {
     "cell_type": "code",
     "collapsed": false,
     "input": [
      "min(42,53) #minimum"
     ],
     "language": "python",
     "metadata": {},
     "outputs": []
    },
    {
     "cell_type": "code",
     "collapsed": false,
     "input": [
      "max(42,53) #maximum"
     ],
     "language": "python",
     "metadata": {},
     "outputs": []
    },
    {
     "cell_type": "code",
     "collapsed": false,
     "input": [
      "len(\"hello\") #length of the string \"hello\""
     ],
     "language": "python",
     "metadata": {},
     "outputs": []
    },
    {
     "cell_type": "code",
     "collapsed": false,
     "input": [
      "round(4.5) #round values"
     ],
     "language": "python",
     "metadata": {},
     "outputs": []
    },
    {
     "cell_type": "code",
     "collapsed": false,
     "input": [
      "4 == 5 #boolean"
     ],
     "language": "python",
     "metadata": {},
     "outputs": []
    },
    {
     "cell_type": "code",
     "collapsed": false,
     "input": [
      "\"hello\" == 'hello'"
     ],
     "language": "python",
     "metadata": {},
     "outputs": []
    },
    {
     "cell_type": "markdown",
     "metadata": {},
     "source": [
      "<font color=#505050 size=3 face='arial black'>There are four basic types of data in python: <font color=#ff6347>boolean</font>, <font color=#ff6347>strings</font>, <font color=#ff6347>floats</font> and <font color=#ff6347>integers</font>. Strings are text. Integers are integers, one of the two types of numbers. Floats are the equivalent of decimals.</font>"
     ]
    },
    {
     "cell_type": "code",
     "collapsed": false,
     "input": [
      "print type(1)\n",
      "print type(2.4)\n",
      "print type(\"hello\")\n",
      "print type(True)\n",
      "print type(min)"
     ],
     "language": "python",
     "metadata": {},
     "outputs": [
      {
       "output_type": "stream",
       "stream": "stdout",
       "text": [
        "<type 'int'>\n",
        "<type 'float'>\n",
        "<type 'str'>\n",
        "<type 'bool'>\n",
        "<type 'builtin_function_or_method'>\n"
       ]
      }
     ],
     "prompt_number": 1
    },
    {
     "cell_type": "markdown",
     "metadata": {},
     "source": [
      "<font color=#505050 size=3 face='arial black'> Using variables</font>"
     ]
    },
    {
     "cell_type": "code",
     "collapsed": false,
     "input": [
      "x = 4\n",
      "y = 5\n",
      "z = x+y\n",
      "print x, y, z"
     ],
     "language": "python",
     "metadata": {},
     "outputs": []
    },
    {
     "cell_type": "code",
     "collapsed": false,
     "input": [
      "x = 5\n",
      "print type(x)\n",
      "x = \"hello\"\n",
      "print type(x)"
     ],
     "language": "python",
     "metadata": {},
     "outputs": []
    },
    {
     "cell_type": "heading",
     "level": 3,
     "metadata": {},
     "source": [
      "Operations with strings"
     ]
    },
    {
     "cell_type": "code",
     "collapsed": false,
     "input": [
      "\"Hello. How are you today?\".split()"
     ],
     "language": "python",
     "metadata": {},
     "outputs": []
    },
    {
     "cell_type": "code",
     "collapsed": false,
     "input": [
      "print \"\".join(['Hello.', 'How', 'are', 'you', 'today?'])"
     ],
     "language": "python",
     "metadata": {},
     "outputs": []
    },
    {
     "cell_type": "code",
     "collapsed": false,
     "input": [
      "print \" \".join(['Hello.', 'How', 'are', 'you', 'today?'])"
     ],
     "language": "python",
     "metadata": {},
     "outputs": []
    },
    {
     "cell_type": "code",
     "collapsed": false,
     "input": [
      "\"Hello.\".startswith(\"H\")"
     ],
     "language": "python",
     "metadata": {},
     "outputs": []
    },
    {
     "cell_type": "code",
     "collapsed": false,
     "input": [
      "\"Hello.\".startswith(\"h\")"
     ],
     "language": "python",
     "metadata": {},
     "outputs": []
    },
    {
     "cell_type": "code",
     "collapsed": false,
     "input": [
      "\"Hello.\".endswith(\".\")"
     ],
     "language": "python",
     "metadata": {},
     "outputs": []
    },
    {
     "cell_type": "code",
     "collapsed": false,
     "input": [
      "print \"H\" in \"Hello\" #returns a boolean \n",
      "print \"Hello\" in \"Hello. How are you today?\" #returns a boolean"
     ],
     "language": "python",
     "metadata": {},
     "outputs": []
    },
    {
     "cell_type": "heading",
     "level": 2,
     "metadata": {},
     "source": [
      "Getting more functions using modules"
     ]
    },
    {
     "cell_type": "markdown",
     "metadata": {},
     "source": [
      "<font color=#505050 size=3 face='arial black'>You can use the import statement to get more functions in python</font>"
     ]
    },
    {
     "cell_type": "heading",
     "level": 3,
     "metadata": {},
     "source": [
      "<font color=#505050 size=4 face='arial black'>string</font>\n",
      "<br>"
     ]
    },
    {
     "cell_type": "code",
     "collapsed": false,
     "input": [
      "#https://docs.python.org/2/library/string.html\n",
      "import string"
     ],
     "language": "python",
     "metadata": {},
     "outputs": []
    },
    {
     "cell_type": "code",
     "collapsed": false,
     "input": [
      "print string.punctuation\n",
      "print string.digits\n",
      "print string.ascii_letters"
     ],
     "language": "python",
     "metadata": {},
     "outputs": []
    },
    {
     "cell_type": "heading",
     "level": 3,
     "metadata": {},
     "source": [
      "<font color=#505050 size=4 face='arial black'>math</font>\n",
      "<br>"
     ]
    },
    {
     "cell_type": "code",
     "collapsed": false,
     "input": [
      "#https://docs.python.org/2/library/math.html\n",
      "import math"
     ],
     "language": "python",
     "metadata": {},
     "outputs": []
    },
    {
     "cell_type": "code",
     "collapsed": false,
     "input": [
      "print math.log(0.2)\n",
      "print math.exp(4)"
     ],
     "language": "python",
     "metadata": {},
     "outputs": []
    },
    {
     "cell_type": "heading",
     "level": 3,
     "metadata": {},
     "source": [
      "<font color=#505050 size=4 face='arial black'>random</font>\n",
      "<br>"
     ]
    },
    {
     "cell_type": "code",
     "collapsed": false,
     "input": [
      "#https://docs.python.org/2/library/random.html\n",
      "import random"
     ],
     "language": "python",
     "metadata": {},
     "outputs": []
    },
    {
     "cell_type": "code",
     "collapsed": false,
     "input": [
      "print random.random() # random real number between 0 and 1\n",
      "print random.randint(0,5) #random integer between 0 and 5"
     ],
     "language": "python",
     "metadata": {},
     "outputs": []
    },
    {
     "cell_type": "heading",
     "level": 3,
     "metadata": {},
     "source": [
      "<font color=#505050 size=4 face='arial black'>user-defined functions</font>\n",
      "<br>"
     ]
    },
    {
     "cell_type": "code",
     "collapsed": false,
     "input": [
      "def f(x):\n",
      "    return x+1\n",
      "\n",
      "print f(2)"
     ],
     "language": "python",
     "metadata": {},
     "outputs": []
    },
    {
     "cell_type": "code",
     "collapsed": false,
     "input": [
      "def f(x,y):\n",
      "    return x+y\n",
      "\n",
      "print f(2,3)"
     ],
     "language": "python",
     "metadata": {},
     "outputs": []
    },
    {
     "cell_type": "code",
     "collapsed": false,
     "input": [
      "def f(first_name,last_name):\n",
      "    first_initial = first_name[0]\n",
      "    last_initial = last_name[0]\n",
      "    return first_initial+\".\"+last_initial+\".\"\n",
      "\n",
      "print f(\"John\",\"Smith\")"
     ],
     "language": "python",
     "metadata": {},
     "outputs": []
    },
    {
     "cell_type": "heading",
     "level": 3,
     "metadata": {},
     "source": [
      "<font color=#505050 size=4 face='arial black'>user-defined modules</font>\n",
      "<br>"
     ]
    },
    {
     "cell_type": "code",
     "collapsed": false,
     "input": [],
     "language": "python",
     "metadata": {},
     "outputs": []
    },
    {
     "cell_type": "code",
     "collapsed": false,
     "input": [
      "import myfile"
     ],
     "language": "python",
     "metadata": {},
     "outputs": []
    },
    {
     "cell_type": "code",
     "collapsed": false,
     "input": [
      "myfile.f(1,3)"
     ],
     "language": "python",
     "metadata": {},
     "outputs": []
    },
    {
     "cell_type": "markdown",
     "metadata": {},
     "source": [
      "<br><center><font color=#ff6347 size=6 face='arial black'>Objectives of the Workshop</font></center><br>\n",
      "\n",
      "<font color=#505050 size=3 face='arial black'>\n",
      "\n",
      "<p>Before leaving the workshop:</p>\n",
      "<ol>\n",
      "<font color=#ff6347><li>Have working python environment on your laptop</li><br></font>\n",
      "\n",
      "<font color=#ff6347><li>Know how to talk to the python interpreter</li><br></font>\n",
      "\n",
      "<font color=#505050><li>Know where to find out more about python</li><br></font>\n",
      "\n",
      "<font color=#505050><li>Know how to get data into python, use functions and do a few basic operations</li><br></font>\n",
      "</ol>\n",
      "\n",
      "</font>\n"
     ]
    },
    {
     "cell_type": "markdown",
     "metadata": {},
     "source": [
      "<br><br><center><font color=#ff6347 size=6 face='arial black'>Getting Help</font></center><br><br>"
     ]
    },
    {
     "cell_type": "markdown",
     "metadata": {},
     "source": [
      "<font color=#505050 size=3 face='arial black'>\n",
      "\n",
      "<font size=4>Books</font> <br> \n",
      "\n",
      "<ol>\n",
      "\n",
      "<li><a href=\"http://learnpythonthehardway.org/\">Python the Hard Way</a> </li>\n",
      "\n",
      "<li><a href=\"http://shop.oreilly.com/category/browse-subjects/programming/python.do\">Oreilly Books</a></li>\n",
      "\n",
      "<li><a href=\"http://shop.oreilly.com/product/0636920028154.do\">Learning Python</a></li>\n",
      "\n",
      "</ol>\n",
      "<br><br>\n",
      "<font size=4>Websites</font>\n",
      "<ol>\n",
      "<li><a href=\"https://www.python.org/\">Python.org</a></li>\n",
      "\n",
      "<li><a href=\"http://stackoverflow.com/\">Stack Overflow</a></li>\n",
      "</ol>\n",
      "</font>\n",
      "<br>"
     ]
    },
    {
     "cell_type": "code",
     "collapsed": false,
     "input": [
      "help(math.exp)"
     ],
     "language": "python",
     "metadata": {},
     "outputs": []
    },
    {
     "cell_type": "code",
     "collapsed": false,
     "input": [
      "math.exp?"
     ],
     "language": "python",
     "metadata": {},
     "outputs": []
    },
    {
     "cell_type": "code",
     "collapsed": false,
     "input": [
      "help(\"math\")"
     ],
     "language": "python",
     "metadata": {},
     "outputs": []
    },
    {
     "cell_type": "code",
     "collapsed": false,
     "input": [
      "dir(math)"
     ],
     "language": "python",
     "metadata": {},
     "outputs": []
    },
    {
     "cell_type": "code",
     "collapsed": false,
     "input": [
      "import myfile"
     ],
     "language": "python",
     "metadata": {},
     "outputs": []
    },
    {
     "cell_type": "code",
     "collapsed": false,
     "input": [
      "help(myfile.g)"
     ],
     "language": "python",
     "metadata": {},
     "outputs": []
    },
    {
     "cell_type": "markdown",
     "metadata": {},
     "source": [
      "<br><center><font color=#ff6347 size=6 face='arial black'>Objectives of the Workshop</font></center><br>\n",
      "\n",
      "<font color=#505050 size=3 face='arial black'>\n",
      "\n",
      "<p>Before leaving the workshop:</p>\n",
      "<ol>\n",
      "<font color=#ff6347><li>Have working python environment on your laptop</li><br></font>\n",
      "\n",
      "<font color=#ff6347><li>Know how to talk to the python interpreter</li><br></font>\n",
      "\n",
      "<font color=#ff6347><li>Know where to find out more about python</li><br></font>\n",
      "\n",
      "<font color=#505050><li>Know how to get data into python, use functions and do a few basic operations</li><br></font>\n",
      "</ol>\n",
      "\n",
      "</font>"
     ]
    },
    {
     "cell_type": "markdown",
     "metadata": {},
     "source": [
      "<br><br><center><font color=#ff6347 size=6 face='arial black'>Complex Data Types</font></center><br><br>"
     ]
    },
    {
     "cell_type": "heading",
     "level": 3,
     "metadata": {},
     "source": [
      "<font color=#505050 size=4 face='arial black'>lists</font>\n",
      "<br>"
     ]
    },
    {
     "cell_type": "code",
     "collapsed": false,
     "input": [
      "\"A camel can go periods of time without drinking water.\".split()"
     ],
     "language": "python",
     "metadata": {},
     "outputs": []
    },
    {
     "cell_type": "code",
     "collapsed": false,
     "input": [
      "x = \"A camel can go periods of time without drinking water.\".split()\n",
      "type(x)"
     ],
     "language": "python",
     "metadata": {},
     "outputs": []
    },
    {
     "cell_type": "code",
     "collapsed": false,
     "input": [
      "words = \"A camel can go periods of time without drinking water.\".split()"
     ],
     "language": "python",
     "metadata": {},
     "outputs": []
    },
    {
     "cell_type": "code",
     "collapsed": false,
     "input": [
      "print words[0]\n",
      "print words[1]\n",
      "print words[9]\n",
      "print words[-1]\n",
      "print words[1:3]\n",
      "print words[1:]\n",
      "print words[:3]\n",
      "print len(words)"
     ],
     "language": "python",
     "metadata": {},
     "outputs": []
    },
    {
     "cell_type": "code",
     "collapsed": false,
     "input": [
      "range(5)"
     ],
     "language": "python",
     "metadata": {},
     "outputs": []
    },
    {
     "cell_type": "code",
     "collapsed": false,
     "input": [
      "x = ['a','c']\n",
      "\n",
      "print x\n",
      "x.append('b')\n",
      "print x\n",
      "\n",
      "x.sort()\n",
      "print x\n",
      "\n",
      "x.remove('a')\n",
      "print x\n",
      "\n"
     ],
     "language": "python",
     "metadata": {},
     "outputs": []
    },
    {
     "cell_type": "code",
     "collapsed": false,
     "input": [
      "for thing in range(5):\n",
      "    print thing "
     ],
     "language": "python",
     "metadata": {},
     "outputs": []
    },
    {
     "cell_type": "code",
     "collapsed": false,
     "input": [
      "for item in range(5):\n",
      "    print item "
     ],
     "language": "python",
     "metadata": {},
     "outputs": []
    },
    {
     "cell_type": "code",
     "collapsed": false,
     "input": [
      "for word in words:\n",
      "    print word"
     ],
     "language": "python",
     "metadata": {},
     "outputs": []
    },
    {
     "cell_type": "code",
     "collapsed": false,
     "input": [
      "for word in words:\n",
      "    if word.startswith(\"c\"):\n",
      "        print word"
     ],
     "language": "python",
     "metadata": {},
     "outputs": []
    },
    {
     "cell_type": "code",
     "collapsed": false,
     "input": [
      "[word for word in words]"
     ],
     "language": "python",
     "metadata": {},
     "outputs": []
    },
    {
     "cell_type": "code",
     "collapsed": false,
     "input": [
      "[len(word) for word in words]"
     ],
     "language": "python",
     "metadata": {},
     "outputs": []
    },
    {
     "cell_type": "code",
     "collapsed": false,
     "input": [
      "[len(word) for word in words if word.startswith('c')]"
     ],
     "language": "python",
     "metadata": {},
     "outputs": []
    },
    {
     "cell_type": "code",
     "collapsed": false,
     "input": [
      "map(len,words)"
     ],
     "language": "python",
     "metadata": {},
     "outputs": []
    },
    {
     "cell_type": "code",
     "collapsed": false,
     "input": [
      "def startswith_c(word):\n",
      "    return word.startswith('c')\n",
      "\n",
      "print filter(startswith_c, words)\n",
      "print map(len, filter(startswith_c, words) )"
     ],
     "language": "python",
     "metadata": {},
     "outputs": []
    },
    {
     "cell_type": "heading",
     "level": 3,
     "metadata": {},
     "source": [
      "<font color=#505050 size=4 face='arial black'>dictionaries</font>\n",
      "<br>"
     ]
    },
    {
     "cell_type": "code",
     "collapsed": false,
     "input": [
      "category=dict()\n",
      "category[\"apple\"]=\"fruit\"\n",
      "category[\"banana\"]=\"fruit\"\n",
      "category[\"cherry\"]=\"fruit\"\n",
      "category[\"celery\"]=\"vegetable\"\n",
      "category[\"tomato\"]=\"vegetable\""
     ],
     "language": "python",
     "metadata": {},
     "outputs": []
    },
    {
     "cell_type": "code",
     "collapsed": false,
     "input": [
      "category[\"apple\"]"
     ],
     "language": "python",
     "metadata": {},
     "outputs": []
    },
    {
     "cell_type": "code",
     "collapsed": false,
     "input": [
      "category.keys()"
     ],
     "language": "python",
     "metadata": {},
     "outputs": []
    },
    {
     "cell_type": "code",
     "collapsed": false,
     "input": [
      "category.values()"
     ],
     "language": "python",
     "metadata": {},
     "outputs": []
    },
    {
     "cell_type": "code",
     "collapsed": false,
     "input": [
      "category.items()"
     ],
     "language": "python",
     "metadata": {},
     "outputs": []
    },
    {
     "cell_type": "code",
     "collapsed": false,
     "input": [
      "print category"
     ],
     "language": "python",
     "metadata": {},
     "outputs": []
    },
    {
     "cell_type": "code",
     "collapsed": false,
     "input": [
      "data = category.items()\n",
      "print data"
     ],
     "language": "python",
     "metadata": {},
     "outputs": []
    },
    {
     "cell_type": "code",
     "collapsed": false,
     "input": [
      "data[0]"
     ],
     "language": "python",
     "metadata": {},
     "outputs": []
    },
    {
     "cell_type": "code",
     "collapsed": false,
     "input": [
      "print data[0][0]\n",
      "print data[0][1]"
     ],
     "language": "python",
     "metadata": {},
     "outputs": []
    },
    {
     "cell_type": "heading",
     "level": 3,
     "metadata": {},
     "source": [
      "<font color=#505050 size=4 face='arial black'>numpy arrays</font>\n",
      "<br>"
     ]
    },
    {
     "cell_type": "code",
     "collapsed": false,
     "input": [
      "#http://wiki.scipy.org/Tentative_NumPy_Tutorial#head-6a1bc005bd80e1b19f812e1e64e0d25d50f99fe2\n",
      "import numpy as np"
     ],
     "language": "python",
     "metadata": {},
     "outputs": []
    },
    {
     "cell_type": "code",
     "collapsed": false,
     "input": [
      "print [1,2,3,4]+[5,6,7,8]\n",
      "print [1,2,3,4]+['a','b','c','d']\n",
      "\n",
      "x = [1,2,3,4]\n",
      "y = np.array(x)\n",
      "\n",
      "print type(x)\n",
      "print type(y)"
     ],
     "language": "python",
     "metadata": {},
     "outputs": []
    },
    {
     "cell_type": "code",
     "collapsed": false,
     "input": [
      "np.array([1,2,3,4])+np.array([5,6,7,8])"
     ],
     "language": "python",
     "metadata": {},
     "outputs": []
    },
    {
     "cell_type": "code",
     "collapsed": false,
     "input": [
      "np.random.random(10)"
     ],
     "language": "python",
     "metadata": {},
     "outputs": []
    },
    {
     "cell_type": "code",
     "collapsed": false,
     "input": [
      "np.mean(np.random.random(1000))"
     ],
     "language": "python",
     "metadata": {},
     "outputs": []
    },
    {
     "cell_type": "heading",
     "level": 2,
     "metadata": {},
     "source": [
      "<br><br><center><font color=#ff6347 size=6 face='arial black'>Manipulating External Data</font></center><br><br>"
     ]
    },
    {
     "cell_type": "markdown",
     "metadata": {},
     "source": [
      "<font color=#505050 size=4 face='arial black'>reading and writing files</font>\n",
      "<br>"
     ]
    },
    {
     "cell_type": "code",
     "collapsed": false,
     "input": [
      "file = open(\"Pride_and_Prejudice.txt\")"
     ],
     "language": "python",
     "metadata": {},
     "outputs": []
    },
    {
     "cell_type": "code",
     "collapsed": false,
     "input": [
      "print type(file)\n",
      "print file"
     ],
     "language": "python",
     "metadata": {},
     "outputs": []
    },
    {
     "cell_type": "code",
     "collapsed": false,
     "input": [
      "file.read()"
     ],
     "language": "python",
     "metadata": {},
     "outputs": []
    },
    {
     "cell_type": "code",
     "collapsed": false,
     "input": [
      "file = open(\"Pride_and_Prejudice.txt\")"
     ],
     "language": "python",
     "metadata": {},
     "outputs": []
    },
    {
     "cell_type": "code",
     "collapsed": false,
     "input": [
      "file.readline()"
     ],
     "language": "python",
     "metadata": {},
     "outputs": []
    },
    {
     "cell_type": "code",
     "collapsed": false,
     "input": [
      "file.readlines()"
     ],
     "language": "python",
     "metadata": {},
     "outputs": []
    },
    {
     "cell_type": "code",
     "collapsed": false,
     "input": [
      "file = open(\"Pride_and_Prejudice.txt\")\n",
      "text = file.readlines()\n",
      "for line in text:\n",
      "    if line.startswith('At'): print line"
     ],
     "language": "python",
     "metadata": {},
     "outputs": []
    },
    {
     "cell_type": "code",
     "collapsed": false,
     "input": [
      "file = open(\"Pride_and_Prejudice.txt\")\n",
      "text = file.read()\n",
      "text = text.split()\n",
      "print len(text)\n",
      "print np.mean( map(len,text) ) # mean word length"
     ],
     "language": "python",
     "metadata": {},
     "outputs": []
    },
    {
     "cell_type": "code",
     "collapsed": false,
     "input": [
      "set(['a','b','a','c','c','a'])"
     ],
     "language": "python",
     "metadata": {},
     "outputs": []
    },
    {
     "cell_type": "code",
     "collapsed": false,
     "input": [
      "file = open(\"Pride_and_Prejudice.txt\")\n",
      "text = file.read()\n",
      "text = text.split()\n",
      "text = set(text)\n",
      "print len(text)"
     ],
     "language": "python",
     "metadata": {},
     "outputs": []
    },
    {
     "cell_type": "markdown",
     "metadata": {},
     "source": [
      "<font color=#505050 size=4 face='arial black'>accessing webpages</font>\n",
      "<br>"
     ]
    },
    {
     "cell_type": "code",
     "collapsed": false,
     "input": [
      "#https://docs.python.org/2/library/urllib2.html\n",
      "import urllib2\n",
      "#Project Gutenberg. Copy of Alice in Wonderland\n",
      "#http://www.gutenberg.org/cache/epub/11/pg11.txt\n",
      "webpage = urllib2.urlopen(\"http://www.gutenberg.org/cache/epub/11/pg11.txt\")"
     ],
     "language": "python",
     "metadata": {},
     "outputs": []
    },
    {
     "cell_type": "code",
     "collapsed": false,
     "input": [
      "text = webpage.readlines()\n",
      "for line in text:\n",
      "    if line.startswith('At'): print line"
     ],
     "language": "python",
     "metadata": {},
     "outputs": []
    },
    {
     "cell_type": "code",
     "collapsed": false,
     "input": [
      "webpage = urllib2.urlopen(\"http://www.gutenberg.org/cache/epub/11/pg11.txt\")\n",
      "outfile = open(\"output.txt\",'w')\n",
      "text = webpage.readlines()\n",
      "for line in text:\n",
      "    if line.startswith('At'): outfile.write(line)"
     ],
     "language": "python",
     "metadata": {},
     "outputs": []
    },
    {
     "cell_type": "markdown",
     "metadata": {},
     "source": [
      "<font color=#505050 size=4 face='arial black'>file system</font>\n",
      "<br>"
     ]
    },
    {
     "cell_type": "code",
     "collapsed": false,
     "input": [
      "#https://docs.python.org/2/library/os.html\n",
      "import os"
     ],
     "language": "python",
     "metadata": {},
     "outputs": [],
     "prompt_number": 33
    },
    {
     "cell_type": "code",
     "collapsed": false,
     "input": [
      "for root, directories, filenames in os.walk(\".\"):\n",
      "    print filenames"
     ],
     "language": "python",
     "metadata": {},
     "outputs": [
      {
       "output_type": "stream",
       "stream": "stdout",
       "text": [
        "['.DS_Store', 'iris.csv', 'myfile.py', 'Pride_and_Prejudice.txt', 'simple.py', 'Workshop October 24.ipynb']\n",
        "['Workshop October 24-checkpoint.ipynb']\n"
       ]
      }
     ],
     "prompt_number": 34
    },
    {
     "cell_type": "code",
     "collapsed": false,
     "input": [
      "for root, directories, filenames in os.walk(\".\"):\n",
      "    for filename in filenames:\n",
      "        if filename.endswith(\".py\"): print filename"
     ],
     "language": "python",
     "metadata": {},
     "outputs": [
      {
       "output_type": "stream",
       "stream": "stdout",
       "text": [
        "myfile.py\n",
        "simple.py\n"
       ]
      }
     ],
     "prompt_number": 35
    },
    {
     "cell_type": "code",
     "collapsed": false,
     "input": [
      "all_files=list()\n",
      "\n",
      "for root, directories, filenames in os.walk(\"..\"):\n",
      "    for filename in filenames:\n",
      "        if filename.endswith(\".py\"): all_files.append(file)\n",
      "\n",
      "print len(all_files)"
     ],
     "language": "python",
     "metadata": {},
     "outputs": [
      {
       "output_type": "stream",
       "stream": "stdout",
       "text": [
        "14331\n"
       ]
      }
     ],
     "prompt_number": 267
    },
    {
     "cell_type": "code",
     "collapsed": false,
     "input": [
      "os.listdir(\".\")"
     ],
     "language": "python",
     "metadata": {},
     "outputs": [
      {
       "metadata": {},
       "output_type": "pyout",
       "prompt_number": 288,
       "text": [
        "['.DS_Store',\n",
        " '.ipynb_checkpoints',\n",
        " 'iris.csv',\n",
        " 'myfile.py',\n",
        " 'Pride_and_Prejudice.txt',\n",
        " 'simple.py',\n",
        " 'Workshop October 24.ipynb']"
       ]
      }
     ],
     "prompt_number": 288
    },
    {
     "cell_type": "code",
     "collapsed": false,
     "input": [
      "all_files=list()\n",
      "\n",
      "for root, directories, files in os.walk(\"..\"):\n",
      "    for file in files:\n",
      "        if file.endswith(\".py\"):\n",
      "            file = open(file)\n",
      "\n",
      "print len(all_files)"
     ],
     "language": "python",
     "metadata": {},
     "outputs": []
    },
    {
     "cell_type": "heading",
     "level": 2,
     "metadata": {},
     "source": [
      "<font color=#505050 size=4 face='arial black'>graphics</font>\n",
      "<br>"
     ]
    },
    {
     "cell_type": "code",
     "collapsed": false,
     "input": [
      "#http://matplotlib.org/\n",
      "import matplotlib.pyplot as plt"
     ],
     "language": "python",
     "metadata": {},
     "outputs": [],
     "prompt_number": 9
    },
    {
     "cell_type": "code",
     "collapsed": false,
     "input": [
      "plt.plot([1,2,3,4],[1,4,9,16])\n",
      "plt.ylabel('y')\n",
      "plt.xlabel('x')\n",
      "plt.show()"
     ],
     "language": "python",
     "metadata": {},
     "outputs": []
    },
    {
     "cell_type": "code",
     "collapsed": false,
     "input": [
      "%matplotlib inline"
     ],
     "language": "python",
     "metadata": {},
     "outputs": []
    },
    {
     "cell_type": "code",
     "collapsed": false,
     "input": [
      "plt.plot([1,2,3,4],[1,4,9,16],color=\"red\",linestyle='--')\n",
      "plt.ylabel('y')\n",
      "plt.xlabel('x')\n",
      "plt.show()"
     ],
     "language": "python",
     "metadata": {},
     "outputs": []
    },
    {
     "cell_type": "code",
     "collapsed": false,
     "input": [
      "plt.plot([1,2,3,4],[1,4,9,16],color=\"red\",linestyle='--')\n",
      "plt.plot([1,2,3,4],[3,7,9,8],color=\"blue\",linestyle='-.')\n",
      "plt.ylabel('y')\n",
      "plt.xlabel('x')\n",
      "plt.show()"
     ],
     "language": "python",
     "metadata": {},
     "outputs": []
    },
    {
     "cell_type": "code",
     "collapsed": false,
     "input": [
      "file = open(\"Pride_and_Prejudice.txt\")\n",
      "text = file.read()\n",
      "text = text.split()\n",
      "data = map(len, text)\n",
      "plt.hist(data,color=\"#ff6347\")\n",
      "plt.xlim(0,16)\n",
      "plt.show()"
     ],
     "language": "python",
     "metadata": {},
     "outputs": []
    },
    {
     "cell_type": "code",
     "collapsed": false,
     "input": [
      "np.linspace(0.5,16.5,17)"
     ],
     "language": "python",
     "metadata": {},
     "outputs": []
    },
    {
     "cell_type": "code",
     "collapsed": false,
     "input": [
      "plt.hist(data,bins=np.linspace(0.5,16.5,17),color=\"#ff6347\")\n",
      "plt.xlim(0,16)\n",
      "plt.title('Distribution of word lengths in P & P')\n",
      "plt.xlabel('word length')\n",
      "plt.ylabel('frequency')\n",
      "plt.show()"
     ],
     "language": "python",
     "metadata": {},
     "outputs": []
    },
    {
     "cell_type": "heading",
     "level": 2,
     "metadata": {},
     "source": [
      "<font color=#505050 size=4 face='arial black'>tabular data</font>\n",
      "<br>"
     ]
    },
    {
     "cell_type": "code",
     "collapsed": false,
     "input": [
      "#http://pandas.pydata.org/\n",
      "import pandas as pd"
     ],
     "language": "python",
     "metadata": {},
     "outputs": [],
     "prompt_number": 2
    },
    {
     "cell_type": "code",
     "collapsed": false,
     "input": [
      "data = pd.read_csv(\"iris.csv\")\n",
      "print data"
     ],
     "language": "python",
     "metadata": {},
     "outputs": [
      {
       "output_type": "stream",
       "stream": "stdout",
       "text": [
        "     Species  sepal length  sepal width  petal length  petal width\n",
        "0          0           5.1          3.5           1.4          0.2\n",
        "1          0           4.9          3.0           1.4          0.2\n",
        "2          0           4.7          3.2           1.3          0.2\n",
        "3          0           4.6          3.1           1.5          0.2\n",
        "4          0           5.0          3.6           1.4          0.2\n",
        "5          0           5.4          3.9           1.7          0.4\n",
        "6          0           4.6          3.4           1.4          0.3\n",
        "7          0           5.0          3.4           1.5          0.2\n",
        "8          0           4.4          2.9           1.4          0.2\n",
        "9          0           4.9          3.1           1.5          0.1\n",
        "10         0           5.4          3.7           1.5          0.2\n",
        "11         0           4.8          3.4           1.6          0.2\n",
        "12         0           4.8          3.0           1.4          0.1\n",
        "13         0           4.3          3.0           1.1          0.1\n",
        "14         0           5.8          4.0           1.2          0.2\n",
        "15         0           5.7          4.4           1.5          0.4\n",
        "16         0           5.4          3.9           1.3          0.4\n",
        "17         0           5.1          3.5           1.4          0.3\n",
        "18         0           5.7          3.8           1.7          0.3\n",
        "19         0           5.1          3.8           1.5          0.3\n",
        "20         0           5.4          3.4           1.7          0.2\n",
        "21         0           5.1          3.7           1.5          0.4\n",
        "22         0           4.6          3.6           1.0          0.2\n",
        "23         0           5.1          3.3           1.7          0.5\n",
        "24         0           4.8          3.4           1.9          0.2\n",
        "25         0           5.0          3.0           1.6          0.2\n",
        "26         0           5.0          3.4           1.6          0.4\n",
        "27         0           5.2          3.5           1.5          0.2\n",
        "28         0           5.2          3.4           1.4          0.2\n",
        "29         0           4.7          3.2           1.6          0.2\n",
        "..       ...           ...          ...           ...          ...\n",
        "120        2           6.9          3.2           5.7          2.3\n",
        "121        2           5.6          2.8           4.9          2.0\n",
        "122        2           7.7          2.8           6.7          2.0\n",
        "123        2           6.3          2.7           4.9          1.8\n",
        "124        2           6.7          3.3           5.7          2.1\n",
        "125        2           7.2          3.2           6.0          1.8\n",
        "126        2           6.2          2.8           4.8          1.8\n",
        "127        2           6.1          3.0           4.9          1.8\n",
        "128        2           6.4          2.8           5.6          2.1\n",
        "129        2           7.2          3.0           5.8          1.6\n",
        "130        2           7.4          2.8           6.1          1.9\n",
        "131        2           7.9          3.8           6.4          2.0\n",
        "132        2           6.4          2.8           5.6          2.2\n",
        "133        2           6.3          2.8           5.1          1.5\n",
        "134        2           6.1          2.6           5.6          1.4\n",
        "135        2           7.7          3.0           6.1          2.3\n",
        "136        2           6.3          3.4           5.6          2.4\n",
        "137        2           6.4          3.1           5.5          1.8\n",
        "138        2           6.0          3.0           4.8          1.8\n",
        "139        2           6.9          3.1           5.4          2.1\n",
        "140        2           6.7          3.1           5.6          2.4\n",
        "141        2           6.9          3.1           5.1          2.3\n",
        "142        2           5.8          2.7           5.1          1.9\n",
        "143        2           6.8          3.2           5.9          2.3\n",
        "144        2           6.7          3.3           5.7          2.5\n",
        "145        2           6.7          3.0           5.2          2.3\n",
        "146        2           6.3          2.5           5.0          1.9\n",
        "147        2           6.5          3.0           5.2          2.0\n",
        "148        2           6.2          3.4           5.4          2.3\n",
        "149        2           5.9          3.0           5.1          1.8\n",
        "\n",
        "[150 rows x 5 columns]\n"
       ]
      }
     ],
     "prompt_number": 3
    },
    {
     "cell_type": "code",
     "collapsed": false,
     "input": [
      "data.columns"
     ],
     "language": "python",
     "metadata": {},
     "outputs": [
      {
       "metadata": {},
       "output_type": "pyout",
       "prompt_number": 4,
       "text": [
        "Index([u'Species', u'sepal length', u'sepal width', u'petal length', u'petal width'], dtype='object')"
       ]
      }
     ],
     "prompt_number": 4
    },
    {
     "cell_type": "code",
     "collapsed": false,
     "input": [
      "data.index"
     ],
     "language": "python",
     "metadata": {},
     "outputs": [
      {
       "metadata": {},
       "output_type": "pyout",
       "prompt_number": 5,
       "text": [
        "Int64Index([0, 1, 2, 3, 4, 5, 6, 7, 8, 9, 10, 11, 12, 13, 14, 15, 16, 17, 18, 19, 20, 21, 22, 23, 24, 25, 26, 27, 28, 29, 30, 31, 32, 33, 34, 35, 36, 37, 38, 39, 40, 41, 42, 43, 44, 45, 46, 47, 48, 49, 50, 51, 52, 53, 54, 55, 56, 57, 58, 59, 60, 61, 62, 63, 64, 65, 66, 67, 68, 69, 70, 71, 72, 73, 74, 75, 76, 77, 78, 79, 80, 81, 82, 83, 84, 85, 86, 87, 88, 89, 90, 91, 92, 93, 94, 95, 96, 97, 98, 99, ...], dtype='int64')"
       ]
      }
     ],
     "prompt_number": 5
    },
    {
     "cell_type": "code",
     "collapsed": false,
     "input": [
      "data[\"sepal length\"]"
     ],
     "language": "python",
     "metadata": {},
     "outputs": [
      {
       "metadata": {},
       "output_type": "pyout",
       "prompt_number": 6,
       "text": [
        "0     5.1\n",
        "1     4.9\n",
        "2     4.7\n",
        "3     4.6\n",
        "4     5.0\n",
        "5     5.4\n",
        "6     4.6\n",
        "7     5.0\n",
        "8     4.4\n",
        "9     4.9\n",
        "10    5.4\n",
        "11    4.8\n",
        "12    4.8\n",
        "13    4.3\n",
        "14    5.8\n",
        "...\n",
        "135    7.7\n",
        "136    6.3\n",
        "137    6.4\n",
        "138    6.0\n",
        "139    6.9\n",
        "140    6.7\n",
        "141    6.9\n",
        "142    5.8\n",
        "143    6.8\n",
        "144    6.7\n",
        "145    6.7\n",
        "146    6.3\n",
        "147    6.5\n",
        "148    6.2\n",
        "149    5.9\n",
        "Name: sepal length, Length: 150, dtype: float64"
       ]
      }
     ],
     "prompt_number": 6
    },
    {
     "cell_type": "code",
     "collapsed": false,
     "input": [
      "print data.ix[0]\n",
      "print\n",
      "print data.ix[0,1:2]"
     ],
     "language": "python",
     "metadata": {},
     "outputs": [
      {
       "output_type": "stream",
       "stream": "stdout",
       "text": [
        "Species         0.0\n",
        "sepal length    5.1\n",
        "sepal width     3.5\n",
        "petal length    1.4\n",
        "petal width     0.2\n",
        "Name: 0, dtype: float64\n",
        "\n",
        "sepal length    5.1\n",
        "Name: 0, dtype: float64\n"
       ]
      }
     ],
     "prompt_number": 7
    },
    {
     "cell_type": "code",
     "collapsed": false,
     "input": [
      "plt.scatter(data[\"sepal length\"],data[\"sepal width\"],color=\"#ff6347\")"
     ],
     "language": "python",
     "metadata": {},
     "outputs": [
      {
       "metadata": {},
       "output_type": "pyout",
       "prompt_number": 10,
       "text": [
        "<matplotlib.collections.PathCollection at 0x10ef781d0>"
       ]
      }
     ],
     "prompt_number": 10
    },
    {
     "cell_type": "code",
     "collapsed": false,
     "input": [
      "%load_ext rpy2.ipython"
     ],
     "language": "python",
     "metadata": {},
     "outputs": [],
     "prompt_number": 16
    },
    {
     "cell_type": "code",
     "collapsed": false,
     "input": [
      "%Rpush data"
     ],
     "language": "python",
     "metadata": {},
     "outputs": [],
     "prompt_number": 17
    },
    {
     "cell_type": "code",
     "collapsed": false,
     "input": [
      "%R print(summary(data))"
     ],
     "language": "python",
     "metadata": {},
     "outputs": [
      {
       "metadata": {},
       "output_type": "display_data",
       "text": [
        "    Species   sepal.length    sepal.width     petal.length    petal.width   \n",
        " Min.   :0   Min.   :4.300   Min.   :2.000   Min.   :1.000   Min.   :0.100  \n",
        " 1st Qu.:0   1st Qu.:5.100   1st Qu.:2.800   1st Qu.:1.600   1st Qu.:0.300  \n",
        " Median :1   Median :5.800   Median :3.000   Median :4.350   Median :1.300  \n",
        " Mean   :1   Mean   :5.843   Mean   :3.054   Mean   :3.759   Mean   :1.199  \n",
        " 3rd Qu.:2   3rd Qu.:6.400   3rd Qu.:3.300   3rd Qu.:5.100   3rd Qu.:1.800  \n",
        " Max.   :2   Max.   :7.900   Max.   :4.400   Max.   :6.900   Max.   :2.500  \n"
       ]
      }
     ],
     "prompt_number": 18
    },
    {
     "cell_type": "code",
     "collapsed": false,
     "input": [
      "%R plot(data$sepal.length,data$sepal.width)"
     ],
     "language": "python",
     "metadata": {},
     "outputs": [
      {
       "metadata": {},
       "output_type": "display_data",
       "png": "[encoded data removed]"
      }
     ],
     "prompt_number": 21
    },
    {
     "cell_type": "markdown",
     "metadata": {},
     "source": [
      "<br><br><center><font color=#ff6347 size=6 face='arial black'>Future directions</font></center><br>\n",
      "\n",
      "<font color=#ff6347>Style guide</font> <br>\n",
      "&nbsp;&nbsp;&nbsp;&nbsp; official python style guide: <a href=\"http://legacy.python.org/dev/peps/pep-0008/\">PEP-8</a>\n",
      "\n",
      "<font color=#505050 size=4 face='arial black'>\n",
      "<font color=#ff6347>Graphics</font> <br>\n",
      "&nbsp;&nbsp;&nbsp;&nbsp; matplotlib, seaborn <br><br>\n",
      "\n",
      "<font color=#505050 size=4 face='arial black'>\n",
      "<font color=#ff6347>Webscraping</font> <br>\n",
      "&nbsp;&nbsp;&nbsp;&nbsp; urllib2, lxml, BeautifulSoup <br><br>\n",
      "\n",
      "<font color=#ff6347>Quantitative Data Analysis</font> <br>\n",
      "&nbsp;&nbsp;&nbsp;&nbsp; numpy, scipy, scikit-learn, statsmodels <br><br>\n",
      "\n",
      "<font color=#ff6347>Text analysis</font> <br>\n",
      "&nbsp;&nbsp;&nbsp;&nbsp; string, nltk <br><br>\n",
      "\n",
      "<font color=#ff6347>Social Network Analysis</font> <br>\n",
      "&nbsp;&nbsp;&nbsp;&nbsp; igraph, networkx <br><br>\n",
      "\n",
      "<font color=#ff6347>Using python with R</font> <br>\n",
      "&nbsp;&nbsp;&nbsp;&nbsp; rpy2 <br><br>\n",
      "\n",
      " </font>\n",
      " <br><br>"
     ]
    },
    {
     "cell_type": "markdown",
     "metadata": {},
     "source": [
      "<br><br><center><font color=#ff6347 size=6 face='arial black'>Python Culture and the Zen of Python</font></center><br>"
     ]
    },
    {
     "cell_type": "markdown",
     "metadata": {},
     "source": [
      "<br>\n",
      "<font color=#505050 size=3 face='arial black'> The culture of python is to have code that is simple and readable but gets the job done. The most important of these three is getting the job done!</font>.\n",
      "<br>"
     ]
    },
    {
     "cell_type": "markdown",
     "metadata": {},
     "source": [
      "#http://stackoverflow.com/questions/228181/the-zen-of-python\n",
      "import this"
     ]
    },
    {
     "cell_type": "heading",
     "level": 1,
     "metadata": {},
     "source": [
      "<br><br><br><center><font color=#ff6347 size=6 face='arial black'>Objectives of the Workshop</font></center><br>\n",
      "\n",
      "<font color=#505050 size=3 face='arial black'>\n",
      "\n",
      "<p>Before leaving the workshop:</p>\n",
      "<ol>\n",
      "<font color=#ff6347><li>Have working python environment on your laptop</li><br></font>\n",
      "\n",
      "<font color=#ff6347><li>Know how to talk to the python interpreter</li><br></font>\n",
      "\n",
      "<font color=#ff6347><li>Know where to find out more about python</li><br></font>\n",
      "\n",
      "<font color=#ff6347><li>Know how to get data into python, use functions and do a few basic operations</li><br></font>\n",
      "</ol>\n",
      "\n",
      "</font><br><br>"
     ]
    },
    {
     "cell_type": "markdown",
     "metadata": {},
     "source": [
      "<br><br><br><center><font color=#ff6347 size=8 face='arial black'>Thanks for listening!</font></center><br><br>"
     ]
    }
   ],
   "metadata": {}
  }
 ]
}