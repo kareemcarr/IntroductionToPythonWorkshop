{
 "metadata": {
  "name": "",
  "signature": "sha256:9cb74765420adf3133dcd53051fc70b97b90eb810e26c35537c7c2480ff80f35"
 },
 "nbformat": 3,
 "nbformat_minor": 0,
 "worksheets": [
  {
   "cells": [
    {
     "cell_type": "heading",
     "level": 1,
     "metadata": {},
     "source": [
      "<br><br><center><font color=#505050 size=8 face='arial black'>Introduction to Python Workshop</font></center>\n",
      "\n",
      "<br><br><center><font color=#ff6347 size=5 face='arial black'>Kareem Carr</font></center><br><br>"
     ]
    },
    {
     "cell_type": "markdown",
     "metadata": {},
     "source": [
      "\n",
      "<font color=#505050 size=5 face='arial black'>IQSS Research Consulting Team </font>\n",
      "<br><br><font color=#505050 size=3 face='arial black'>FREE service for anybody doing research at Harvard and MIT including students, postdocs, professors and other affiliates.  Our goal is to increase the reearch productivity across the research community.\n",
      "\n",
      "Short consultations on technical issues presenting a barrier to research including problems in <font color=#ff6347>statistical analysis</font>, <font color=#ff6347>programming</font>, <font color=#ff6347>experiment design</font> and <font color=#ff6347>distributed computing</font>.</font>\n",
      "<br><br><font color=#505050 size=3 face='arial black'>email: <a href=\"mailto:support@help.hmdc.harvard.edu\">support@help.hmdc.harvard.edu</a></font><br>\n",
      "<font color=#505050 size=3 face='arial black'>website: http://projects.iq.harvard.edu/rtc </font>\n",
      "<br><br><br>"
     ]
    },
    {
     "cell_type": "markdown",
     "metadata": {},
     "source": [
      "<br>\n",
      "<font color=#505050 size=3 face='arial black'>\n",
      "<font size=5>Why learn python?</font>\n",
      "<br><br>\n",
      "<font color=\"#ff6347\">It's a good big data language.</font>\n",
      "<br>\n",
      "<ol>\n",
      "\n",
      "<li> Writing one-off scripts.</li>\n",
      "<li> Data wrangling of moderately big data. (1Gb - 1Tb)</li>\n",
      "<li> Text manipulation.</li>\n",
      "<li> Machine Learning.</li>\n",
      "<li> Scientific documentation (http://www.nature.com/news/interactive-notebooks-sharing-the-code-1.16261).</li>\n",
      " \n",
      "\n",
      "</ol>\n",
      "</font>\n",
      "<br><br>"
     ]
    },
    {
     "cell_type": "markdown",
     "metadata": {},
     "source": [
      "\n",
      "<center><font color=#505050 size=5 face='arial black'> <a href=\"http://blog.codeeval.com/codeevalblog/2015#.VQJuB0ZwPy8=\"> <img src=\"files/codeeval2015.001.jpg\"></a></font></center>"
     ]
    },
    {
     "cell_type": "markdown",
     "metadata": {},
     "source": [
      "<br><center><font color=#ff6347 size=6 face='arial black'>Objectives of the Workshop</font></center><br>\n",
      "\n",
      "<font color=#505050 size=3 face='arial black'>\n",
      "\n",
      "<p>Before leaving the workshop:</p>\n",
      "<ol>\n",
      "\n",
      "<font color=#505050><li>Know how to talk to the python interpreter</li><br></font>\n",
      "\n",
      "<font color=#505050><li>Learn a few functions and apply them to ints, floats and strings</li><br></font>\n",
      "\n",
      "<font color=#505050><li>Manipulate lists and dictionaries</li><br></font>\n",
      "\n",
      "<font color=#505050><li>Read data into python from the internet and from files</li><br></font>\n",
      "\n",
      "<font color=#505050><li>Import additional commands into python</li><br></font>\n",
      "</ol>\n",
      "\n",
      "</font>"
     ]
    },
    {
     "cell_type": "markdown",
     "metadata": {},
     "source": [
      "<br><br><center><font color=#ff6347 size=6 face='arial black'>The Basics of Python</font></center><br><br>"
     ]
    },
    {
     "cell_type": "markdown",
     "metadata": {},
     "source": [
      "<br>\n",
      "<font color=#505050 size=3 face='arial black'> This workshop uses <font color=\"#ff6347\">ipython notebook</font>. Howevever, there are many other ways of using python such as:\n",
      "<li> Enthought Canopy (gives a more stata or R experience)</li>\n",
      "<li> Spyder (similar interface to R)</li>\n",
      "<li> Sublime Text 2 (a simple text editor)</li>\n",
      "<br>\n",
      "The ipython notebook command starts up a local webserver that understands python commands. By default, <font color=\"#ff6347\">only you</font> can see it and use it."
     ]
    },
    {
     "cell_type": "markdown",
     "metadata": {},
     "source": [
      "<br>\n",
      "<font color=#505050 size=3 face='arial black'> During the exercise if you would like to insert a cell so you can add your own commands press <font color=\"#ff6347\">ctrl-m</font> and then press <font color=\"#ff6347\">b</font>.\n",
      "<br>"
     ]
    },
    {
     "cell_type": "heading",
     "level": 2,
     "metadata": {},
     "source": [
      "<font color=#505050 size=4 face='arial black'>What is the simplest python program?</font>\n",
      "<br>"
     ]
    },
    {
     "cell_type": "code",
     "collapsed": false,
     "input": [
      "print \"It was the White Rabbit, trotting slowly back again, and looking anxiously about as it went\""
     ],
     "language": "python",
     "metadata": {},
     "outputs": [
      {
       "output_type": "stream",
       "stream": "stdout",
       "text": [
        "It was the White Rabbit, trotting slowly back again, and looking anxiously about as it went\n"
       ]
      }
     ],
     "prompt_number": 1
    },
    {
     "cell_type": "code",
     "collapsed": false,
     "input": [
      "print \"Hello\""
     ],
     "language": "python",
     "metadata": {},
     "outputs": [
      {
       "output_type": "stream",
       "stream": "stdout",
       "text": [
        "Hello\n"
       ]
      }
     ],
     "prompt_number": 2
    },
    {
     "cell_type": "code",
     "collapsed": false,
     "input": [
      "%run simple.py"
     ],
     "language": "python",
     "metadata": {},
     "outputs": [
      {
       "output_type": "stream",
       "stream": "stdout",
       "text": [
        "It was the White Rabbit, trotting slowly back again, and looking anxiously about as it went\n"
       ]
      }
     ],
     "prompt_number": 3
    },
    {
     "cell_type": "heading",
     "level": 2,
     "metadata": {},
     "source": [
      "<font color=#505050 size=4 face='arial black'>Built-in functions</font>\n",
      "<br>"
     ]
    },
    {
     "cell_type": "markdown",
     "metadata": {},
     "source": [
      "<font color=#505050 size=3 face='arial black'></font>"
     ]
    },
    {
     "cell_type": "code",
     "collapsed": false,
     "input": [
      "min(42,53) #minimum"
     ],
     "language": "python",
     "metadata": {},
     "outputs": [
      {
       "metadata": {},
       "output_type": "pyout",
       "prompt_number": 4,
       "text": [
        "42"
       ]
      }
     ],
     "prompt_number": 4
    },
    {
     "cell_type": "code",
     "collapsed": false,
     "input": [
      "max(42,53) #maximum"
     ],
     "language": "python",
     "metadata": {},
     "outputs": [
      {
       "metadata": {},
       "output_type": "pyout",
       "prompt_number": 5,
       "text": [
        "53"
       ]
      }
     ],
     "prompt_number": 5
    },
    {
     "cell_type": "code",
     "collapsed": false,
     "input": [
      "len(\"It was the White Rabbit\") #length of the string \"It was the White Rabbit\""
     ],
     "language": "python",
     "metadata": {},
     "outputs": [
      {
       "metadata": {},
       "output_type": "pyout",
       "prompt_number": 6,
       "text": [
        "23"
       ]
      }
     ],
     "prompt_number": 6
    },
    {
     "cell_type": "code",
     "collapsed": false,
     "input": [
      "round(4.5) #round values"
     ],
     "language": "python",
     "metadata": {},
     "outputs": [
      {
       "metadata": {},
       "output_type": "pyout",
       "prompt_number": 7,
       "text": [
        "5.0"
       ]
      }
     ],
     "prompt_number": 7
    },
    {
     "cell_type": "code",
     "collapsed": false,
     "input": [
      "4 == 5 #boolean"
     ],
     "language": "python",
     "metadata": {},
     "outputs": [
      {
       "metadata": {},
       "output_type": "pyout",
       "prompt_number": 8,
       "text": [
        "False"
       ]
      }
     ],
     "prompt_number": 8
    },
    {
     "cell_type": "code",
     "collapsed": false,
     "input": [
      "\"Alice\" == 'Alice'"
     ],
     "language": "python",
     "metadata": {},
     "outputs": [
      {
       "metadata": {},
       "output_type": "pyout",
       "prompt_number": 9,
       "text": [
        "True"
       ]
      }
     ],
     "prompt_number": 9
    },
    {
     "cell_type": "markdown",
     "metadata": {},
     "source": [
      "<font color=#505050 size=3 face='arial black'>There are four basic types of data in python: <font color=#ff6347>boolean</font>, <font color=#ff6347>strings</font>, <font color=#ff6347>floats</font> and <font color=#ff6347>integers</font>. Strings are text. Integers are integers, one of the two types of numbers. Floats are the equivalent of decimals.</font>"
     ]
    },
    {
     "cell_type": "code",
     "collapsed": false,
     "input": [
      "print type(24)\n",
      "print type(2.4)\n",
      "print type(\"It was the White Rabbit\")\n",
      "print type(True)\n",
      "print type(min)"
     ],
     "language": "python",
     "metadata": {},
     "outputs": [
      {
       "output_type": "stream",
       "stream": "stdout",
       "text": [
        "<type 'int'>\n",
        "<type 'float'>\n",
        "<type 'str'>\n",
        "<type 'bool'>\n",
        "<type 'builtin_function_or_method'>\n"
       ]
      }
     ],
     "prompt_number": 10
    },
    {
     "cell_type": "markdown",
     "metadata": {},
     "source": [
      "<font color=#505050 size=3 face='arial black'> Using variables</font>"
     ]
    },
    {
     "cell_type": "code",
     "collapsed": false,
     "input": [
      "x = 4\n",
      "y = 5\n",
      "z = x+y\n",
      "print x, y, z"
     ],
     "language": "python",
     "metadata": {},
     "outputs": [
      {
       "output_type": "stream",
       "stream": "stdout",
       "text": [
        "4 5 9\n"
       ]
      }
     ],
     "prompt_number": 11
    },
    {
     "cell_type": "code",
     "collapsed": false,
     "input": [
      "x = 5\n",
      "print type(x)\n",
      "x = \"hello\"\n",
      "print type(x)"
     ],
     "language": "python",
     "metadata": {},
     "outputs": [
      {
       "output_type": "stream",
       "stream": "stdout",
       "text": [
        "<type 'int'>\n",
        "<type 'str'>\n"
       ]
      }
     ],
     "prompt_number": 12
    },
    {
     "cell_type": "heading",
     "level": 3,
     "metadata": {},
     "source": [
      "Operations with strings"
     ]
    },
    {
     "cell_type": "code",
     "collapsed": false,
     "input": [
      "\"White\"+\" \"+\"Rabbit\""
     ],
     "language": "python",
     "metadata": {},
     "outputs": [
      {
       "metadata": {},
       "output_type": "pyout",
       "prompt_number": 13,
       "text": [
        "'White Rabbit'"
       ]
      }
     ],
     "prompt_number": 13
    },
    {
     "cell_type": "code",
     "collapsed": false,
     "input": [
      "\"alice\".capitalize()"
     ],
     "language": "python",
     "metadata": {},
     "outputs": [
      {
       "metadata": {},
       "output_type": "pyout",
       "prompt_number": 14,
       "text": [
        "'Alice'"
       ]
      }
     ],
     "prompt_number": 14
    },
    {
     "cell_type": "code",
     "collapsed": false,
     "input": [
      "print \"alice\".upper()"
     ],
     "language": "python",
     "metadata": {},
     "outputs": [
      {
       "output_type": "stream",
       "stream": "stdout",
       "text": [
        "ALICE\n"
       ]
      }
     ],
     "prompt_number": 15
    },
    {
     "cell_type": "code",
     "collapsed": false,
     "input": [
      "print \"ALICE\".lower()"
     ],
     "language": "python",
     "metadata": {},
     "outputs": [
      {
       "output_type": "stream",
       "stream": "stdout",
       "text": [
        "alice\n"
       ]
      }
     ],
     "prompt_number": 16
    },
    {
     "cell_type": "code",
     "collapsed": false,
     "input": [
      "\"There were doors all round the hall, but they were all locked\".count('e')"
     ],
     "language": "python",
     "metadata": {},
     "outputs": [
      {
       "metadata": {},
       "output_type": "pyout",
       "prompt_number": 17,
       "text": [
        "9"
       ]
      }
     ],
     "prompt_number": 17
    },
    {
     "cell_type": "code",
     "collapsed": false,
     "input": [
      "\"There were doors all round the hall, but they were all locked\".count('all')"
     ],
     "language": "python",
     "metadata": {},
     "outputs": [
      {
       "metadata": {},
       "output_type": "pyout",
       "prompt_number": 18,
       "text": [
        "3"
       ]
      }
     ],
     "prompt_number": 18
    },
    {
     "cell_type": "code",
     "collapsed": false,
     "input": [
      "print \"   White Rabbit   \".strip()\n",
      "print \"\\t White Rabbit  \\t \".strip('\\t ')"
     ],
     "language": "python",
     "metadata": {},
     "outputs": [
      {
       "output_type": "stream",
       "stream": "stdout",
       "text": [
        "White Rabbit\n",
        "White Rabbit\n"
       ]
      }
     ],
     "prompt_number": 22
    },
    {
     "cell_type": "code",
     "collapsed": false,
     "input": [
      "\"Rabbit\".startswith(\"R\")"
     ],
     "language": "python",
     "metadata": {},
     "outputs": [
      {
       "metadata": {},
       "output_type": "pyout",
       "prompt_number": 20,
       "text": [
        "True"
       ]
      }
     ],
     "prompt_number": 20
    },
    {
     "cell_type": "code",
     "collapsed": false,
     "input": [
      "\"Rabbit\".startswith(\"r\")"
     ],
     "language": "python",
     "metadata": {},
     "outputs": [
      {
       "metadata": {},
       "output_type": "pyout",
       "prompt_number": 23,
       "text": [
        "False"
       ]
      }
     ],
     "prompt_number": 23
    },
    {
     "cell_type": "code",
     "collapsed": false,
     "input": [
      "\"Rabbit\".endswith(\"t\")"
     ],
     "language": "python",
     "metadata": {},
     "outputs": [
      {
       "metadata": {},
       "output_type": "pyout",
       "prompt_number": 24,
       "text": [
        "True"
       ]
      }
     ],
     "prompt_number": 24
    },
    {
     "cell_type": "code",
     "collapsed": false,
     "input": [
      "print \"a\" in \"Rabbit\" #returns a boolean \n",
      "print \"doors\" in \"There were doors all round the hall\" #returns a boolean"
     ],
     "language": "python",
     "metadata": {},
     "outputs": [
      {
       "output_type": "stream",
       "stream": "stdout",
       "text": [
        "True\n",
        "True\n"
       ]
      }
     ],
     "prompt_number": 25
    },
    {
     "cell_type": "heading",
     "level": 2,
     "metadata": {},
     "source": [
      "Getting more functions using modules"
     ]
    },
    {
     "cell_type": "markdown",
     "metadata": {},
     "source": [
      "<font color=#505050 size=3 face='arial black'>You can use the import statement to get more variables in python</font>"
     ]
    },
    {
     "cell_type": "heading",
     "level": 3,
     "metadata": {},
     "source": [
      "<font color=#505050 size=4 face='arial black'>string</font>\n",
      "<br>"
     ]
    },
    {
     "cell_type": "code",
     "collapsed": false,
     "input": [
      "#https://docs.python.org/2/library/string.html\n",
      "import string"
     ],
     "language": "python",
     "metadata": {},
     "outputs": [],
     "prompt_number": 26
    },
    {
     "cell_type": "code",
     "collapsed": false,
     "input": [
      "print string.punctuation\n",
      "print string.digits\n",
      "print string.ascii_letters\n",
      "\n",
      "print \"000Hello111\".strip(string.digits)"
     ],
     "language": "python",
     "metadata": {},
     "outputs": [
      {
       "output_type": "stream",
       "stream": "stdout",
       "text": [
        "!\"#$%&'()*+,-./:;<=>?@[\\]^_`{|}~\n",
        "0123456789\n",
        "abcdefghijklmnopqrstuvwxyzABCDEFGHIJKLMNOPQRSTUVWXYZ\n",
        "Hello\n"
       ]
      }
     ],
     "prompt_number": 29
    },
    {
     "cell_type": "markdown",
     "metadata": {},
     "source": [
      "<font color=#505050 size=3 face='arial black'>You can use the import statement to get more functions in python as well</font>"
     ]
    },
    {
     "cell_type": "heading",
     "level": 3,
     "metadata": {},
     "source": [
      "<font color=#505050 size=4 face='arial black'>math</font>\n",
      "<br>"
     ]
    },
    {
     "cell_type": "code",
     "collapsed": false,
     "input": [
      "#https://docs.python.org/2/library/math.html\n",
      "import math"
     ],
     "language": "python",
     "metadata": {},
     "outputs": [],
     "prompt_number": 30
    },
    {
     "cell_type": "code",
     "collapsed": false,
     "input": [
      "print math.pi\n",
      "print math.log(0.2)\n",
      "print math.exp(4)"
     ],
     "language": "python",
     "metadata": {},
     "outputs": [
      {
       "output_type": "stream",
       "stream": "stdout",
       "text": [
        "3.14159265359\n",
        "-1.60943791243\n",
        "54.5981500331\n"
       ]
      }
     ],
     "prompt_number": 31
    },
    {
     "cell_type": "heading",
     "level": 3,
     "metadata": {},
     "source": [
      "<font color=#505050 size=4 face='arial black'>random</font>\n",
      "<br>"
     ]
    },
    {
     "cell_type": "code",
     "collapsed": false,
     "input": [
      "#https://docs.python.org/2/library/random.html\n",
      "import random"
     ],
     "language": "python",
     "metadata": {},
     "outputs": [],
     "prompt_number": 32
    },
    {
     "cell_type": "code",
     "collapsed": false,
     "input": [
      "print random.random() # random real number between 0 and 1\n",
      "print random.randint(0,5) #random integer between 0 and 5"
     ],
     "language": "python",
     "metadata": {},
     "outputs": [
      {
       "output_type": "stream",
       "stream": "stdout",
       "text": [
        "0.113356156059\n",
        "1\n"
       ]
      }
     ],
     "prompt_number": 34
    },
    {
     "cell_type": "heading",
     "level": 3,
     "metadata": {},
     "source": [
      "<font color=#505050 size=4 face='arial black'>user-defined functions</font>\n",
      "<br>"
     ]
    },
    {
     "cell_type": "markdown",
     "metadata": {},
     "source": [
      "<font color=#505050 size=3 face='arial black'>Whitespace is important in python. One must indent after certain special keywords, and it is important to be consistent about the use of tabs vs. spaces. I recommend always indenting with spaces.</font>"
     ]
    },
    {
     "cell_type": "code",
     "collapsed": false,
     "input": [
      "def f(x):\n",
      " x=x+1\n",
      " return x+1\n",
      "\n",
      "print f(2)"
     ],
     "language": "python",
     "metadata": {},
     "outputs": [
      {
       "output_type": "stream",
       "stream": "stdout",
       "text": [
        "4\n"
       ]
      }
     ],
     "prompt_number": 38
    },
    {
     "cell_type": "code",
     "collapsed": false,
     "input": [
      "def f(x,y):\n",
      "    return x+y\n",
      "\n",
      "print f(2,3)"
     ],
     "language": "python",
     "metadata": {},
     "outputs": [
      {
       "output_type": "stream",
       "stream": "stdout",
       "text": [
        "5\n"
       ]
      }
     ],
     "prompt_number": 39
    },
    {
     "cell_type": "code",
     "collapsed": false,
     "input": [
      "def count_a(sentence):\n",
      "    n = sentence.upper()\n",
      "    return n\n",
      "\n",
      "print count_a(\"aa a\")"
     ],
     "language": "python",
     "metadata": {},
     "outputs": [
      {
       "output_type": "stream",
       "stream": "stdout",
       "text": [
        "AA A\n"
       ]
      }
     ],
     "prompt_number": 42
    },
    {
     "cell_type": "code",
     "collapsed": false,
     "input": [
      "1"
     ],
     "language": "python",
     "metadata": {},
     "outputs": [
      {
       "metadata": {},
       "output_type": "pyout",
       "prompt_number": 41,
       "text": [
        "1"
       ]
      }
     ],
     "prompt_number": 41
    },
    {
     "cell_type": "markdown",
     "metadata": {},
     "source": [
      "<br><br><center><font color=#ff6347 size=6 face='arial black'>Getting Help</font></center><br><br>"
     ]
    },
    {
     "cell_type": "markdown",
     "metadata": {},
     "source": [
      "<font color=#505050 size=3 face='arial black'>\n",
      "\n",
      "<font size=4>Books</font> <br> \n",
      "\n",
      "<ol>\n",
      "\n",
      "<li><a href=\"http://learnpythonthehardway.org/\">Python the Hard Way</a> </li>\n",
      "\n",
      "<li><a href=\"http://shop.oreilly.com/category/browse-subjects/programming/python.do\">Oreilly Books</a></li>\n",
      "\n",
      "<li><a href=\"http://shop.oreilly.com/product/0636920028154.do\">Learning Python</a></li>\n",
      "\n",
      "</ol>\n",
      "<br><br>\n",
      "<font size=4>Websites</font>\n",
      "<ol>\n",
      "<li><a href=\"https://www.python.org/\">Python.org</a></li>\n",
      "\n",
      "<li><a href=\"http://stackoverflow.com/\">Stack Overflow</a></li>\n",
      "</ol>\n",
      "</font>\n",
      "<br>"
     ]
    },
    {
     "cell_type": "code",
     "collapsed": false,
     "input": [
      "help(math.exp)"
     ],
     "language": "python",
     "metadata": {},
     "outputs": [
      {
       "output_type": "stream",
       "stream": "stdout",
       "text": [
        "Help on built-in function exp in module math:\n",
        "\n",
        "exp(...)\n",
        "    exp(x)\n",
        "    \n",
        "    Return e raised to the power of x.\n",
        "\n"
       ]
      }
     ],
     "prompt_number": 43
    },
    {
     "cell_type": "code",
     "collapsed": false,
     "input": [
      "math.exp?"
     ],
     "language": "python",
     "metadata": {},
     "outputs": [],
     "prompt_number": 44
    },
    {
     "cell_type": "code",
     "collapsed": false,
     "input": [
      "help(\"math\")"
     ],
     "language": "python",
     "metadata": {},
     "outputs": [
      {
       "output_type": "stream",
       "stream": "stdout",
       "text": [
        "Help on module math:\n",
        "\n",
        "NAME\n",
        "    math\n",
        "\n",
        "FILE\n",
        "    /Library/Frameworks/Python.framework/Versions/2.7/lib/python2.7/lib-dynload/math.so\n",
        "\n",
        "MODULE DOCS\n",
        "    http://docs.python.org/library/math\n",
        "\n",
        "DESCRIPTION\n",
        "    This module is always available.  It provides access to the\n",
        "    mathematical functions defined by the C standard.\n",
        "\n",
        "FUNCTIONS\n",
        "    acos(...)\n",
        "        acos(x)\n",
        "        \n",
        "        Return the arc cosine (measured in radians) of x.\n",
        "    \n",
        "    acosh(...)\n",
        "        acosh(x)\n",
        "        \n",
        "        Return the hyperbolic arc cosine (measured in radians) of x.\n",
        "    \n",
        "    asin(...)\n",
        "        asin(x)\n",
        "        \n",
        "        Return the arc sine (measured in radians) of x.\n",
        "    \n",
        "    asinh(...)\n",
        "        asinh(x)\n",
        "        \n",
        "        Return the hyperbolic arc sine (measured in radians) of x.\n",
        "    \n",
        "    atan(...)\n",
        "        atan(x)\n",
        "        \n",
        "        Return the arc tangent (measured in radians) of x.\n",
        "    \n",
        "    atan2(...)\n",
        "        atan2(y, x)\n",
        "        \n",
        "        Return the arc tangent (measured in radians) of y/x.\n",
        "        Unlike atan(y/x), the signs of both x and y are considered.\n",
        "    \n",
        "    atanh(...)\n",
        "        atanh(x)\n",
        "        \n",
        "        Return the hyperbolic arc tangent (measured in radians) of x.\n",
        "    \n",
        "    ceil(...)\n",
        "        ceil(x)\n",
        "        \n",
        "        Return the ceiling of x as a float.\n",
        "        This is the smallest integral value >= x.\n",
        "    \n",
        "    copysign(...)\n",
        "        copysign(x, y)\n",
        "        \n",
        "        Return x with the sign of y.\n",
        "    \n",
        "    cos(...)\n",
        "        cos(x)\n",
        "        \n",
        "        Return the cosine of x (measured in radians).\n",
        "    \n",
        "    cosh(...)\n",
        "        cosh(x)\n",
        "        \n",
        "        Return the hyperbolic cosine of x.\n",
        "    \n",
        "    degrees(...)\n",
        "        degrees(x)\n",
        "        \n",
        "        Convert angle x from radians to degrees.\n",
        "    \n",
        "    erf(...)\n",
        "        erf(x)\n",
        "        \n",
        "        Error function at x.\n",
        "    \n",
        "    erfc(...)\n",
        "        erfc(x)\n",
        "        \n",
        "        Complementary error function at x.\n",
        "    \n",
        "    exp(...)\n",
        "        exp(x)\n",
        "        \n",
        "        Return e raised to the power of x.\n",
        "    \n",
        "    expm1(...)\n",
        "        expm1(x)\n",
        "        \n",
        "        Return exp(x)-1.\n",
        "        This function avoids the loss of precision involved in the direct evaluation of exp(x)-1 for small x.\n",
        "    \n",
        "    fabs(...)\n",
        "        fabs(x)\n",
        "        \n",
        "        Return the absolute value of the float x.\n",
        "    \n",
        "    factorial(...)\n",
        "        factorial(x) -> Integral\n",
        "        \n",
        "        Find x!. Raise a ValueError if x is negative or non-integral.\n",
        "    \n",
        "    floor(...)\n",
        "        floor(x)\n",
        "        \n",
        "        Return the floor of x as a float.\n",
        "        This is the largest integral value <= x.\n",
        "    \n",
        "    fmod(...)\n",
        "        fmod(x, y)\n",
        "        \n",
        "        Return fmod(x, y), according to platform C.  x % y may differ.\n",
        "    \n",
        "    frexp(...)\n",
        "        frexp(x)\n",
        "        \n",
        "        Return the mantissa and exponent of x, as pair (m, e).\n",
        "        m is a float and e is an int, such that x = m * 2.**e.\n",
        "        If x is 0, m and e are both 0.  Else 0.5 <= abs(m) < 1.0.\n",
        "    \n",
        "    fsum(...)\n",
        "        fsum(iterable)\n",
        "        \n",
        "        Return an accurate floating point sum of values in the iterable.\n",
        "        Assumes IEEE-754 floating point arithmetic.\n",
        "    \n",
        "    gamma(...)\n",
        "        gamma(x)\n",
        "        \n",
        "        Gamma function at x.\n",
        "    \n",
        "    hypot(...)\n",
        "        hypot(x, y)\n",
        "        \n",
        "        Return the Euclidean distance, sqrt(x*x + y*y).\n",
        "    \n",
        "    isinf(...)\n",
        "        isinf(x) -> bool\n",
        "        \n",
        "        Check if float x is infinite (positive or negative).\n",
        "    \n",
        "    isnan(...)\n",
        "        isnan(x) -> bool\n",
        "        \n",
        "        Check if float x is not a number (NaN).\n",
        "    \n",
        "    ldexp(...)\n",
        "        ldexp(x, i)\n",
        "        \n",
        "        Return x * (2**i).\n",
        "    \n",
        "    lgamma(...)\n",
        "        lgamma(x)\n",
        "        \n",
        "        Natural logarithm of absolute value of Gamma function at x.\n",
        "    \n",
        "    log(...)\n",
        "        log(x[, base])\n",
        "        \n",
        "        Return the logarithm of x to the given base.\n",
        "        If the base not specified, returns the natural logarithm (base e) of x.\n",
        "    \n",
        "    log10(...)\n",
        "        log10(x)\n",
        "        \n",
        "        Return the base 10 logarithm of x.\n",
        "    \n",
        "    log1p(...)\n",
        "        log1p(x)\n",
        "        \n",
        "        Return the natural logarithm of 1+x (base e).\n",
        "        The result is computed in a way which is accurate for x near zero.\n",
        "    \n",
        "    modf(...)\n",
        "        modf(x)\n",
        "        \n",
        "        Return the fractional and integer parts of x.  Both results carry the sign\n",
        "        of x and are floats.\n",
        "    \n",
        "    pow(...)\n",
        "        pow(x, y)\n",
        "        \n",
        "        Return x**y (x to the power of y).\n",
        "    \n",
        "    radians(...)\n",
        "        radians(x)\n",
        "        \n",
        "        Convert angle x from degrees to radians.\n",
        "    \n",
        "    sin(...)\n",
        "        sin(x)\n",
        "        \n",
        "        Return the sine of x (measured in radians).\n",
        "    \n",
        "    sinh(...)\n",
        "        sinh(x)\n",
        "        \n",
        "        Return the hyperbolic sine of x.\n",
        "    \n",
        "    sqrt(...)\n",
        "        sqrt(x)\n",
        "        \n",
        "        Return the square root of x.\n",
        "    \n",
        "    tan(...)\n",
        "        tan(x)\n",
        "        \n",
        "        Return the tangent of x (measured in radians).\n",
        "    \n",
        "    tanh(...)\n",
        "        tanh(x)\n",
        "        \n",
        "        Return the hyperbolic tangent of x.\n",
        "    \n",
        "    trunc(...)\n",
        "        trunc(x:Real) -> Integral\n",
        "        \n",
        "        Truncates x to the nearest Integral toward 0. Uses the __trunc__ magic method.\n",
        "\n",
        "DATA\n",
        "    e = 2.718281828459045\n",
        "    pi = 3.141592653589793\n",
        "\n",
        "\n"
       ]
      }
     ],
     "prompt_number": 45
    },
    {
     "cell_type": "code",
     "collapsed": false,
     "input": [
      "dir(math)"
     ],
     "language": "python",
     "metadata": {},
     "outputs": [
      {
       "metadata": {},
       "output_type": "pyout",
       "prompt_number": 46,
       "text": [
        "['__doc__',\n",
        " '__file__',\n",
        " '__name__',\n",
        " '__package__',\n",
        " 'acos',\n",
        " 'acosh',\n",
        " 'asin',\n",
        " 'asinh',\n",
        " 'atan',\n",
        " 'atan2',\n",
        " 'atanh',\n",
        " 'ceil',\n",
        " 'copysign',\n",
        " 'cos',\n",
        " 'cosh',\n",
        " 'degrees',\n",
        " 'e',\n",
        " 'erf',\n",
        " 'erfc',\n",
        " 'exp',\n",
        " 'expm1',\n",
        " 'fabs',\n",
        " 'factorial',\n",
        " 'floor',\n",
        " 'fmod',\n",
        " 'frexp',\n",
        " 'fsum',\n",
        " 'gamma',\n",
        " 'hypot',\n",
        " 'isinf',\n",
        " 'isnan',\n",
        " 'ldexp',\n",
        " 'lgamma',\n",
        " 'log',\n",
        " 'log10',\n",
        " 'log1p',\n",
        " 'modf',\n",
        " 'pi',\n",
        " 'pow',\n",
        " 'radians',\n",
        " 'sin',\n",
        " 'sinh',\n",
        " 'sqrt',\n",
        " 'tan',\n",
        " 'tanh',\n",
        " 'trunc']"
       ]
      }
     ],
     "prompt_number": 46
    },
    {
     "cell_type": "code",
     "collapsed": false,
     "input": [
      "import myfile"
     ],
     "language": "python",
     "metadata": {},
     "outputs": [],
     "prompt_number": 47
    },
    {
     "cell_type": "code",
     "collapsed": false,
     "input": [
      "help(myfile.g)"
     ],
     "language": "python",
     "metadata": {},
     "outputs": [
      {
       "output_type": "stream",
       "stream": "stdout",
       "text": [
        "Help on function g in module myfile:\n",
        "\n",
        "g(x, y)\n",
        "    g is a function that returns x times y\n",
        "\n"
       ]
      }
     ],
     "prompt_number": 48
    },
    {
     "cell_type": "code",
     "collapsed": false,
     "input": [
      "%quickref #ipython help"
     ],
     "language": "python",
     "metadata": {},
     "outputs": [],
     "prompt_number": 51
    },
    {
     "cell_type": "code",
     "collapsed": false,
     "input": [
      "def a_new_function(x,y):\n",
      "\t\"\"\"g is a function that returns x times y \"\"\"\n",
      "\treturn x*y"
     ],
     "language": "python",
     "metadata": {},
     "outputs": [],
     "prompt_number": 49
    },
    {
     "cell_type": "code",
     "collapsed": false,
     "input": [
      "help(a_new_function)"
     ],
     "language": "python",
     "metadata": {},
     "outputs": [
      {
       "output_type": "stream",
       "stream": "stdout",
       "text": [
        "Help on function a_new_function in module __main__:\n",
        "\n",
        "a_new_function(x, y)\n",
        "    g is a function that returns x times y\n",
        "\n"
       ]
      }
     ],
     "prompt_number": 50
    },
    {
     "cell_type": "markdown",
     "metadata": {},
     "source": [
      "<br><br><center><font color=#ff6347 size=6 face='arial black'>Complex Data Types</font></center><br><br>"
     ]
    },
    {
     "cell_type": "heading",
     "level": 3,
     "metadata": {},
     "source": [
      "<font color=#505050 size=4 face='arial black'>lists</font>\n",
      "<br>"
     ]
    },
    {
     "cell_type": "code",
     "collapsed": false,
     "input": [
      "\"Down, down, down. Would the fall NEVER come to an end!\".split()"
     ],
     "language": "python",
     "metadata": {},
     "outputs": [
      {
       "metadata": {},
       "output_type": "pyout",
       "prompt_number": 54,
       "text": [
        "['Down,',\n",
        " 'down,',\n",
        " 'down.',\n",
        " 'Would',\n",
        " 'the',\n",
        " 'fall',\n",
        " 'NEVER',\n",
        " 'come',\n",
        " 'to',\n",
        " 'an',\n",
        " 'end!']"
       ]
      }
     ],
     "prompt_number": 54
    },
    {
     "cell_type": "code",
     "collapsed": false,
     "input": [
      "sentence = \"Down, down, down. Would the fall NEVER come to an end!\"\n",
      "words = sentence.split()\n",
      "print sentence\n",
      "print type(sentence)\n",
      "print words\n",
      "print type(words)"
     ],
     "language": "python",
     "metadata": {},
     "outputs": [
      {
       "output_type": "stream",
       "stream": "stdout",
       "text": [
        "Down, down, down. Would the fall NEVER come to an end!\n",
        "<type 'str'>\n",
        "['Down,', 'down,', 'down.', 'Would', 'the', 'fall', 'NEVER', 'come', 'to', 'an', 'end!']\n",
        "<type 'list'>\n"
       ]
      }
     ],
     "prompt_number": 55
    },
    {
     "cell_type": "code",
     "collapsed": false,
     "input": [
      "words = \"Down, down, down. Would the fall NEVER come to an end!\".split()"
     ],
     "language": "python",
     "metadata": {},
     "outputs": [],
     "prompt_number": 56
    },
    {
     "cell_type": "code",
     "collapsed": false,
     "input": [
      "print \"0   \", words[0]\n",
      "print \"1   \", words[1]\n",
      "print \"9   \", words[9]\n",
      "print \"-1  \", words[-1]\n",
      "print \"1:3 \", words[1:5]\n",
      "print \"1:  \", words[1:]\n",
      "print \"0:3 \", words[0:3]\n",
      "print \":3  \", words[:3]\n",
      "print \"len:\", len(words)"
     ],
     "language": "python",
     "metadata": {},
     "outputs": [
      {
       "output_type": "stream",
       "stream": "stdout",
       "text": [
        "0    Down,\n",
        "1    down,\n",
        "9    an\n",
        "-1   end!\n",
        "1:3  ['down,', 'down.']\n",
        "1:   ['down,', 'down.', 'Would', 'the', 'fall', 'NEVER', 'come', 'to', 'an', 'end!']\n",
        "0:3  ['Down,', 'down,', 'down.']\n",
        ":3   ['Down,', 'down,', 'down.']\n",
        "len: 11\n"
       ]
      }
     ],
     "prompt_number": 57
    },
    {
     "cell_type": "code",
     "collapsed": false,
     "input": [
      "range(10)"
     ],
     "language": "python",
     "metadata": {},
     "outputs": [
      {
       "metadata": {},
       "output_type": "pyout",
       "prompt_number": 58,
       "text": [
        "[0, 1, 2, 3, 4, 5, 6, 7, 8, 9]"
       ]
      }
     ],
     "prompt_number": 58
    },
    {
     "cell_type": "code",
     "collapsed": false,
     "input": [
      "x = ['a','c','e']\n",
      "print \"x:       \", x\n",
      "\n",
      "x.append('b')\n",
      "print \"append b:\", x\n",
      "\n",
      "x.sort()\n",
      "print \"sorted x:\", x\n",
      "\n",
      "x.remove('b')\n",
      "print \"remove a:\", x\n",
      "\n",
      "x.append('b')\n",
      "print \"remove a:\", x\n",
      "\n",
      "x.append('c')\n",
      "print \"append c:\", x "
     ],
     "language": "python",
     "metadata": {},
     "outputs": [
      {
       "output_type": "stream",
       "stream": "stdout",
       "text": [
        "x:        ['a', 'c', 'e']\n",
        "append b: ['a', 'c', 'e', 'b']\n",
        "sorted x: ['a', 'b', 'c', 'e']\n",
        "remove a: ['a', 'c', 'e']\n",
        "remove a: ['a', 'c', 'e', 'b']\n",
        "append c: ['a', 'c', 'e', 'b', 'c']\n"
       ]
      }
     ],
     "prompt_number": 59
    },
    {
     "cell_type": "code",
     "collapsed": false,
     "input": [
      "original_sentence = \"Down, down, down. Would the fall NEVER come to an end!\"\n",
      "print \"original       :\", original_sentence\n",
      "\n",
      "no_commas = original_sentence.replace(\",\",\"\")\n",
      "print \"no commas      :\", no_commas\n",
      "\n",
      "no_exclamations = no_commas.replace(\"!\",\"\")\n",
      "print \"no exclamations:\", no_exclamations\n",
      "\n",
      "no_stops = no_exclamations.replace(\".\",\"\")\n",
      "print \"no exclamations:\", no_exclamations\n",
      "\n",
      "split_sentence = no_stops.split(\" \")\n",
      "print \"list           :\", split_sentence"
     ],
     "language": "python",
     "metadata": {},
     "outputs": [
      {
       "output_type": "stream",
       "stream": "stdout",
       "text": [
        "original       : Down, down, down. Would the fall NEVER come to an end!\n",
        "no commas      : Down down down. Would the fall NEVER come to an end!\n",
        "no exclamations: Down down down. Would the fall NEVER come to an end\n",
        "no exclamations: Down down down. Would the fall NEVER come to an end\n",
        "list           : ['Down', 'down', 'down', 'Would', 'the', 'fall', 'NEVER', 'come', 'to', 'an', 'end']\n"
       ]
      }
     ],
     "prompt_number": 60
    },
    {
     "cell_type": "code",
     "collapsed": false,
     "input": [
      "original_sentence.replace(\",\",\"\").replace(\"!\",\"\").replace(\".\",\"\")"
     ],
     "language": "python",
     "metadata": {},
     "outputs": [
      {
       "metadata": {},
       "output_type": "pyout",
       "prompt_number": 61,
       "text": [
        "'Down down down Would the fall NEVER come to an end'"
       ]
      }
     ],
     "prompt_number": 61
    },
    {
     "cell_type": "markdown",
     "metadata": {},
     "source": [
      "<font color=#505050 size=3 face='arial black'> The FOR loop is a way of specifying an action or process that you want to apply to everything in a list. First lets print everything in a list.</font>\n",
      "<br>"
     ]
    },
    {
     "cell_type": "code",
     "collapsed": false,
     "input": [
      "for thing in split_sentence:\n",
      "    print thing "
     ],
     "language": "python",
     "metadata": {},
     "outputs": [
      {
       "output_type": "stream",
       "stream": "stdout",
       "text": [
        "Down\n",
        "down\n",
        "down\n",
        "Would\n",
        "the\n",
        "fall\n",
        "NEVER\n",
        "come\n",
        "to\n",
        "an\n",
        "end\n"
       ]
      }
     ],
     "prompt_number": 62
    },
    {
     "cell_type": "code",
     "collapsed": false,
     "input": [
      "for item in split_sentence:\n",
      "    print item"
     ],
     "language": "python",
     "metadata": {},
     "outputs": [
      {
       "output_type": "stream",
       "stream": "stdout",
       "text": [
        "Down\n",
        "down\n",
        "down\n",
        "Would\n",
        "the\n",
        "fall\n",
        "NEVER\n",
        "come\n",
        "to\n",
        "an\n",
        "end\n"
       ]
      }
     ],
     "prompt_number": 63
    },
    {
     "cell_type": "code",
     "collapsed": false,
     "input": [
      "for word in split_sentence:\n",
      "    print word"
     ],
     "language": "python",
     "metadata": {},
     "outputs": [
      {
       "output_type": "stream",
       "stream": "stdout",
       "text": [
        "Down\n",
        "down\n",
        "down\n",
        "Would\n",
        "the\n",
        "fall\n",
        "NEVER\n",
        "come\n",
        "to\n",
        "an\n",
        "end\n"
       ]
      }
     ],
     "prompt_number": 64
    },
    {
     "cell_type": "code",
     "collapsed": false,
     "input": [
      "print random.choice(split_sentence)"
     ],
     "language": "python",
     "metadata": {},
     "outputs": [
      {
       "output_type": "stream",
       "stream": "stdout",
       "text": [
        "Down\n"
       ]
      }
     ],
     "prompt_number": 66
    },
    {
     "cell_type": "markdown",
     "metadata": {},
     "source": [
      "<font color=#505050 size=3 face='arial black'> The IF STATEMENT is a way of specifying an action that is only performed if certain conditions are met.</font>\n",
      "<br>"
     ]
    },
    {
     "cell_type": "code",
     "collapsed": false,
     "input": [
      "for word in split_sentence:\n",
      "    if word.startswith(\"d\"):\n",
      "        print word"
     ],
     "language": "python",
     "metadata": {},
     "outputs": [
      {
       "output_type": "stream",
       "stream": "stdout",
       "text": [
        "down\n",
        "down\n"
       ]
      }
     ],
     "prompt_number": 67
    },
    {
     "cell_type": "code",
     "collapsed": false,
     "input": [
      "[word for word in split_sentence]"
     ],
     "language": "python",
     "metadata": {},
     "outputs": [
      {
       "metadata": {},
       "output_type": "pyout",
       "prompt_number": 68,
       "text": [
        "['Down',\n",
        " 'down',\n",
        " 'down',\n",
        " 'Would',\n",
        " 'the',\n",
        " 'fall',\n",
        " 'NEVER',\n",
        " 'come',\n",
        " 'to',\n",
        " 'an',\n",
        " 'end']"
       ]
      }
     ],
     "prompt_number": 68
    },
    {
     "cell_type": "code",
     "collapsed": false,
     "input": [
      "[len(word) for word in split_sentence]"
     ],
     "language": "python",
     "metadata": {},
     "outputs": [
      {
       "metadata": {},
       "output_type": "pyout",
       "prompt_number": 69,
       "text": [
        "[4, 4, 4, 5, 3, 4, 5, 4, 2, 2, 3]"
       ]
      }
     ],
     "prompt_number": 69
    },
    {
     "cell_type": "code",
     "collapsed": false,
     "input": [
      "words"
     ],
     "language": "python",
     "metadata": {},
     "outputs": [
      {
       "metadata": {},
       "output_type": "pyout",
       "prompt_number": 72,
       "text": [
        "['Down,',\n",
        " 'down,',\n",
        " 'down.',\n",
        " 'Would',\n",
        " 'the',\n",
        " 'fall',\n",
        " 'NEVER',\n",
        " 'come',\n",
        " 'to',\n",
        " 'an',\n",
        " 'end!']"
       ]
      }
     ],
     "prompt_number": 72
    },
    {
     "cell_type": "code",
     "collapsed": false,
     "input": [
      "[len(word) for word in split_sentence if word.startswith('d')]"
     ],
     "language": "python",
     "metadata": {},
     "outputs": [
      {
       "metadata": {},
       "output_type": "pyout",
       "prompt_number": 70,
       "text": [
        "[4, 4]"
       ]
      }
     ],
     "prompt_number": 70
    },
    {
     "cell_type": "markdown",
     "metadata": {},
     "source": [
      "<font color=#505050 size=3 face='arial black'> The filter and map commands are somewhat advanced commands that take lists of items and produce new lists. It's okay if you don't understand them for now.</font>\n",
      "<br>"
     ]
    },
    {
     "cell_type": "code",
     "collapsed": false,
     "input": [
      "map(len,split_sentence)"
     ],
     "language": "python",
     "metadata": {},
     "outputs": [
      {
       "metadata": {},
       "output_type": "pyout",
       "prompt_number": 71,
       "text": [
        "[5, 5, 5, 5, 3, 4, 5, 4, 2, 2, 4]"
       ]
      }
     ],
     "prompt_number": 71
    },
    {
     "cell_type": "code",
     "collapsed": false,
     "input": [
      "def startswith_d(word):\n",
      "    return word.startswith('d')\n",
      "\n",
      "print filter(startswith_d, split_sentence)\n",
      "print map(len, filter(startswith_d, split_sentence) )"
     ],
     "language": "python",
     "metadata": {},
     "outputs": [
      {
       "output_type": "stream",
       "stream": "stdout",
       "text": [
        "['down', 'down']\n",
        "[4, 4]\n"
       ]
      }
     ],
     "prompt_number": 73
    },
    {
     "cell_type": "heading",
     "level": 3,
     "metadata": {},
     "source": [
      "<font color=#505050 size=4 face='arial black'>dictionaries</font>\n",
      "<br>"
     ]
    },
    {
     "cell_type": "code",
     "collapsed": false,
     "input": [
      "category=dict()\n",
      "category[\"apple\"]=\"fruit\"\n",
      "category[\"banana\"]=\"fruit\"\n",
      "category[\"cherry\"]=\"fruit\"\n",
      "category[\"celery\"]=\"vegetable\"\n",
      "category[\"tomato\"]=\"vegetable\""
     ],
     "language": "python",
     "metadata": {},
     "outputs": [],
     "prompt_number": 75
    },
    {
     "cell_type": "code",
     "collapsed": false,
     "input": [
      "category[\"apple\"]"
     ],
     "language": "python",
     "metadata": {},
     "outputs": [
      {
       "metadata": {},
       "output_type": "pyout",
       "prompt_number": 76,
       "text": [
        "'fruit'"
       ]
      }
     ],
     "prompt_number": 76
    },
    {
     "cell_type": "code",
     "collapsed": false,
     "input": [
      "print category.keys()\n",
      "print sorted(category.keys())"
     ],
     "language": "python",
     "metadata": {},
     "outputs": [
      {
       "output_type": "stream",
       "stream": "stdout",
       "text": [
        "['celery', 'cherry', 'tomato', 'apple', 'banana']\n",
        "['apple', 'banana', 'celery', 'cherry', 'tomato']\n"
       ]
      }
     ],
     "prompt_number": 83
    },
    {
     "cell_type": "code",
     "collapsed": false,
     "input": [
      "category.values()"
     ],
     "language": "python",
     "metadata": {},
     "outputs": [
      {
       "metadata": {},
       "output_type": "pyout",
       "prompt_number": 78,
       "text": [
        "['vegetable', 'fruit', 'vegetable', 'fruit', 'fruit']"
       ]
      }
     ],
     "prompt_number": 78
    },
    {
     "cell_type": "code",
     "collapsed": false,
     "input": [
      "category.items()"
     ],
     "language": "python",
     "metadata": {},
     "outputs": [
      {
       "metadata": {},
       "output_type": "pyout",
       "prompt_number": 79,
       "text": [
        "[('celery', 'vegetable'),\n",
        " ('cherry', 'fruit'),\n",
        " ('tomato', 'vegetable'),\n",
        " ('apple', 'fruit'),\n",
        " ('banana', 'fruit')]"
       ]
      }
     ],
     "prompt_number": 79
    },
    {
     "cell_type": "code",
     "collapsed": false,
     "input": [
      "print category"
     ],
     "language": "python",
     "metadata": {},
     "outputs": [
      {
       "output_type": "stream",
       "stream": "stdout",
       "text": [
        "{'celery': 'vegetable', 'cherry': 'fruit', 'tomato': 'vegetable', 'apple': 'fruit', 'banana': 'fruit'}\n"
       ]
      }
     ],
     "prompt_number": 80
    },
    {
     "cell_type": "code",
     "collapsed": false,
     "input": [
      "data = category.items()\n",
      "print data"
     ],
     "language": "python",
     "metadata": {},
     "outputs": [
      {
       "output_type": "stream",
       "stream": "stdout",
       "text": [
        "[('celery', 'vegetable'), ('cherry', 'fruit'), ('tomato', 'vegetable'), ('apple', 'fruit'), ('banana', 'fruit')]\n"
       ]
      }
     ],
     "prompt_number": 81
    },
    {
     "cell_type": "code",
     "collapsed": false,
     "input": [
      "data[0]"
     ],
     "language": "python",
     "metadata": {},
     "outputs": [
      {
       "metadata": {},
       "output_type": "pyout",
       "prompt_number": 84,
       "text": [
        "('celery', 'vegetable')"
       ]
      }
     ],
     "prompt_number": 84
    },
    {
     "cell_type": "code",
     "collapsed": false,
     "input": [
      "print data[0][0]\n",
      "print data[0][1]"
     ],
     "language": "python",
     "metadata": {},
     "outputs": [
      {
       "output_type": "stream",
       "stream": "stdout",
       "text": [
        "celery\n",
        "vegetable\n"
       ]
      }
     ],
     "prompt_number": 85
    },
    {
     "cell_type": "heading",
     "level": 3,
     "metadata": {},
     "source": [
      "<font color=#505050 size=4 face='arial black'>numpy arrays</font>\n",
      "<br>"
     ]
    },
    {
     "cell_type": "code",
     "collapsed": false,
     "input": [
      "#http://wiki.scipy.org/Tentative_NumPy_Tutorial#head-6a1bc005bd80e1b19f812e1e64e0d25d50f99fe2\n",
      "import numpy as np"
     ],
     "language": "python",
     "metadata": {},
     "outputs": [],
     "prompt_number": 88
    },
    {
     "cell_type": "code",
     "collapsed": false,
     "input": [
      "print [1,2,3,4]+[5,6,7,8]\n",
      "print [1,2,3,4]+['a','b','c','d']\n",
      "\n",
      "x = [1,2,3,4]\n",
      "y = np.array(x)\n",
      "\n",
      "print type(x)\n",
      "print type(y)"
     ],
     "language": "python",
     "metadata": {},
     "outputs": [
      {
       "output_type": "stream",
       "stream": "stdout",
       "text": [
        "[1, 2, 3, 4, 5, 6, 7, 8]\n",
        "[1, 2, 3, 4, 'a', 'b', 'c', 'd']\n",
        "<type 'list'>\n",
        "<type 'numpy.ndarray'>\n"
       ]
      }
     ],
     "prompt_number": 89
    },
    {
     "cell_type": "code",
     "collapsed": false,
     "input": [
      "np.array([1,2,3,4])+np.array([5,6,7,8])"
     ],
     "language": "python",
     "metadata": {},
     "outputs": [
      {
       "metadata": {},
       "output_type": "pyout",
       "prompt_number": 90,
       "text": [
        "array([ 6,  8, 10, 12])"
       ]
      }
     ],
     "prompt_number": 90
    },
    {
     "cell_type": "code",
     "collapsed": false,
     "input": [
      "np.random.random(10)"
     ],
     "language": "python",
     "metadata": {},
     "outputs": [
      {
       "metadata": {},
       "output_type": "pyout",
       "prompt_number": 91,
       "text": [
        "array([ 0.09735039,  0.19991351,  0.38341556,  0.19078097,  0.13654351,\n",
        "        0.53231653,  0.08018774,  0.78314331,  0.05110529,  0.63459284])"
       ]
      }
     ],
     "prompt_number": 91
    },
    {
     "cell_type": "code",
     "collapsed": false,
     "input": [
      "np.mean(np.random.random(1000))"
     ],
     "language": "python",
     "metadata": {},
     "outputs": [
      {
       "metadata": {},
       "output_type": "pyout",
       "prompt_number": 92,
       "text": [
        "0.49572545601745299"
       ]
      }
     ],
     "prompt_number": 92
    },
    {
     "cell_type": "heading",
     "level": 2,
     "metadata": {},
     "source": [
      "<br><br><center><font color=#ff6347 size=6 face='arial black'>Manipulating External Data</font></center><br><br>"
     ]
    },
    {
     "cell_type": "markdown",
     "metadata": {},
     "source": [
      "<font color=#505050 size=4 face='arial black'>reading and writing files</font>\n",
      "<br>"
     ]
    },
    {
     "cell_type": "code",
     "collapsed": false,
     "input": [
      "file = open(\"AliceInWonderland.txt\")"
     ],
     "language": "python",
     "metadata": {},
     "outputs": [],
     "prompt_number": 93
    },
    {
     "cell_type": "code",
     "collapsed": false,
     "input": [
      "print type(file)\n",
      "print file"
     ],
     "language": "python",
     "metadata": {},
     "outputs": [
      {
       "output_type": "stream",
       "stream": "stdout",
       "text": [
        "<type 'file'>\n",
        "<open file 'AliceInWonderland.txt', mode 'r' at 0x107cc5780>\n"
       ]
      }
     ],
     "prompt_number": 94
    },
    {
     "cell_type": "code",
     "collapsed": false,
     "input": [
      "text = file.read()"
     ],
     "language": "python",
     "metadata": {},
     "outputs": [],
     "prompt_number": 95
    },
    {
     "cell_type": "code",
     "collapsed": false,
     "input": [
      "text[0:70]"
     ],
     "language": "python",
     "metadata": {},
     "outputs": [
      {
       "metadata": {},
       "output_type": "pyout",
       "prompt_number": 96,
       "text": [
        "\"Project Gutenberg's Alice's Adventures in Wonderland, by Lewis Carroll\""
       ]
      }
     ],
     "prompt_number": 96
    },
    {
     "cell_type": "code",
     "collapsed": false,
     "input": [
      "file = open(\"AliceInWonderland.txt\")"
     ],
     "language": "python",
     "metadata": {},
     "outputs": [],
     "prompt_number": 104
    },
    {
     "cell_type": "code",
     "collapsed": false,
     "input": [
      "file.readline()"
     ],
     "language": "python",
     "metadata": {},
     "outputs": [
      {
       "metadata": {},
       "output_type": "pyout",
       "prompt_number": 103,
       "text": [
        "'with this eBook or online at www.gutenberg.org\\n'"
       ]
      }
     ],
     "prompt_number": 103
    },
    {
     "cell_type": "code",
     "collapsed": false,
     "input": [
      "lines = file.readlines()"
     ],
     "language": "python",
     "metadata": {},
     "outputs": [],
     "prompt_number": 105
    },
    {
     "cell_type": "code",
     "collapsed": false,
     "input": [
      "lines[0:3]"
     ],
     "language": "python",
     "metadata": {},
     "outputs": [
      {
       "metadata": {},
       "output_type": "pyout",
       "prompt_number": 106,
       "text": [
        "[\"Project Gutenberg's Alice's Adventures in Wonderland, by Lewis Carroll\\n\",\n",
        " '\\n',\n",
        " 'This eBook is for the use of anyone anywhere at no cost and with\\n']"
       ]
      }
     ],
     "prompt_number": 106
    },
    {
     "cell_type": "code",
     "collapsed": false,
     "input": [
      "file = open(\"AliceInWonderland.txt\")\n",
      "text = file.readlines()\n",
      "for line in text:\n",
      "    if line.startswith('At'): print line"
     ],
     "language": "python",
     "metadata": {},
     "outputs": [
      {
       "output_type": "stream",
       "stream": "stdout",
       "text": [
        "At last the Mouse, who seemed to be a person of authority among them,\n",
        "\n",
        "At this moment the door of the house opened, and a large plate came\n",
        "\n",
        "At this moment the King, who had been for some time busily writing in\n",
        "\n",
        "At this the whole pack rose up into the air, and came flying down upon\n",
        "\n"
       ]
      }
     ],
     "prompt_number": 107
    },
    {
     "cell_type": "code",
     "collapsed": false,
     "input": [
      "file = open(\"AliceInWonderland.txt\")\n",
      "text = file.read()\n",
      "text = text.split()\n",
      "print len(text)\n",
      "print np.mean( map(len,text) ) # mean word length"
     ],
     "language": "python",
     "metadata": {},
     "outputs": [
      {
       "output_type": "stream",
       "stream": "stdout",
       "text": [
        "29461\n",
        "4.48324904111\n"
       ]
      }
     ],
     "prompt_number": 108
    },
    {
     "cell_type": "code",
     "collapsed": false,
     "input": [
      "set(['a','b','a','c','c','a'])"
     ],
     "language": "python",
     "metadata": {},
     "outputs": [
      {
       "metadata": {},
       "output_type": "pyout",
       "prompt_number": 109,
       "text": [
        "{'a', 'b', 'c'}"
       ]
      }
     ],
     "prompt_number": 109
    },
    {
     "cell_type": "code",
     "collapsed": false,
     "input": [
      "file = open(\"AliceInWonderland.txt\")\n",
      "text = file.read()\n",
      "text = text.split()\n",
      "text = set(text)\n",
      "print len(text)"
     ],
     "language": "python",
     "metadata": {},
     "outputs": [
      {
       "output_type": "stream",
       "stream": "stdout",
       "text": [
        "6016\n"
       ]
      }
     ],
     "prompt_number": 110
    },
    {
     "cell_type": "markdown",
     "metadata": {},
     "source": [
      "<font color=#505050 size=4 face='arial black'>accessing webpages</font>\n",
      "<br>"
     ]
    },
    {
     "cell_type": "code",
     "collapsed": false,
     "input": [
      "#https://docs.python.org/2/library/urllib2.html\n",
      "import urllib2\n",
      "#Project Gutenberg. Copy of Alice in Wonderland\n",
      "#http://www.gutenberg.org/cache/epub/11/pg11.txt\n",
      "webpage = urllib2.urlopen(\"http://www.gutenberg.org/cache/epub/11/pg11.txt\")"
     ],
     "language": "python",
     "metadata": {},
     "outputs": [],
     "prompt_number": 111
    },
    {
     "cell_type": "code",
     "collapsed": false,
     "input": [
      "text = webpage.readlines()\n",
      "for line in text:\n",
      "    if line.startswith('At'): print line"
     ],
     "language": "python",
     "metadata": {},
     "outputs": [
      {
       "output_type": "stream",
       "stream": "stdout",
       "text": [
        "At last the Mouse, who seemed to be a person of authority among them,\r\n",
        "\n",
        "At this moment the door of the house opened, and a large plate came\r\n",
        "\n",
        "At this moment the King, who had been for some time busily writing in\r\n",
        "\n",
        "At this the whole pack rose up into the air, and came flying down upon\r\n",
        "\n"
       ]
      }
     ],
     "prompt_number": 112
    },
    {
     "cell_type": "code",
     "collapsed": false,
     "input": [
      "webpage = urllib2.urlopen(\"http://www.gutenberg.org/cache/epub/11/pg11.txt\")\n",
      "outfile = open(\"output.txt\",'w')\n",
      "text = webpage.readlines()\n",
      "for line in text:\n",
      "    if line.startswith('At'):\n",
      "        outfile.write(line)\n",
      "outfile.close()"
     ],
     "language": "python",
     "metadata": {},
     "outputs": [],
     "prompt_number": 120
    },
    {
     "cell_type": "markdown",
     "metadata": {},
     "source": [
      "<font color=#505050 size=4 face='arial black'>file system</font>\n",
      "<br>"
     ]
    },
    {
     "cell_type": "code",
     "collapsed": false,
     "input": [
      "#https://docs.python.org/2/library/os.html\n",
      "import os"
     ],
     "language": "python",
     "metadata": {},
     "outputs": [],
     "prompt_number": 122
    },
    {
     "cell_type": "code",
     "collapsed": false,
     "input": [
      "for root, directories, filenames in os.walk(\".\"):\n",
      "    print filenames"
     ],
     "language": "python",
     "metadata": {},
     "outputs": []
    },
    {
     "cell_type": "code",
     "collapsed": false,
     "input": [
      "for root, directories, filenames in os.walk(\"/Users/kareemcarr/Desktop/IntroductionToPythonWorkshop-master\"):\n",
      "    for filename in filenames:\n",
      "        if filename.endswith(\".py\"): print filename"
     ],
     "language": "python",
     "metadata": {},
     "outputs": [
      {
       "output_type": "stream",
       "stream": "stdout",
       "text": [
        "myfile.py\n",
        "processworkshop.py\n",
        "simple.py\n"
       ]
      }
     ],
     "prompt_number": 124
    },
    {
     "cell_type": "code",
     "collapsed": false,
     "input": [
      "os.listdir(\".\")"
     ],
     "language": "python",
     "metadata": {},
     "outputs": [
      {
       "metadata": {},
       "output_type": "pyout",
       "prompt_number": 125,
       "text": [
        "['.DS_Store',\n",
        " '.ipynb_checkpoints',\n",
        " 'AliceInWonderland.txt',\n",
        " 'codeeval2015.001.jpg',\n",
        " 'iris.csv',\n",
        " 'myfile.py',\n",
        " 'myfile.pyc',\n",
        " 'output.txt',\n",
        " 'processworkshop.py',\n",
        " 'README.md',\n",
        " 'simple.py',\n",
        " 'Workshop.html',\n",
        " 'Workshop.ipynb']"
       ]
      }
     ],
     "prompt_number": 125
    },
    {
     "cell_type": "code",
     "collapsed": false,
     "input": [
      "for root, directories, files in os.walk(\".\"):\n",
      "    for file in files:\n",
      "        if file.endswith(\".py\"):\n",
      "            file = open(file)\n",
      "            text = file.read()\n",
      "            print len(text)\n",
      "            file.close()\n"
     ],
     "language": "python",
     "metadata": {},
     "outputs": [
      {
       "output_type": "stream",
       "stream": "stdout",
       "text": [
        "99\n",
        "302\n",
        "100\n"
       ]
      }
     ],
     "prompt_number": 126
    },
    {
     "cell_type": "heading",
     "level": 2,
     "metadata": {},
     "source": [
      "<font color=#505050 size=4 face='arial black'>graphics</font>\n",
      "<br>"
     ]
    },
    {
     "cell_type": "code",
     "collapsed": false,
     "input": [
      "#http://matplotlib.org/\n",
      "import matplotlib.pyplot as plt"
     ],
     "language": "python",
     "metadata": {},
     "outputs": [],
     "prompt_number": 127
    },
    {
     "cell_type": "code",
     "collapsed": false,
     "input": [
      "plt.plot([1,2,3,4],[1,4,9,16])\n",
      "plt.ylabel('y')\n",
      "plt.xlabel('x')\n",
      "plt.show()"
     ],
     "language": "python",
     "metadata": {},
     "outputs": [],
     "prompt_number": 128
    },
    {
     "cell_type": "code",
     "collapsed": false,
     "input": [
      "%matplotlib inline"
     ],
     "language": "python",
     "metadata": {},
     "outputs": [],
     "prompt_number": 129
    },
    {
     "cell_type": "code",
     "collapsed": false,
     "input": [
      "plt.plot([1,2,3,4],[1,4,9,16],color=\"red\",linestyle='--')\n",
      "plt.ylabel('y')\n",
      "plt.xlabel('x')\n",
      "plt.show()"
     ],
     "language": "python",
     "metadata": {},
     "outputs": [
      {
       "metadata": {},
       "output_type": "display_data",
       "png": "[encoded data removed]",
       "text": [
        "<matplotlib.figure.Figure at 0x10db9b710>"
       ]
      }
     ],
     "prompt_number": 130
    },
    {
     "cell_type": "code",
     "collapsed": false,
     "input": [
      "plt.plot([1,2,3,4],[1,4,9,16],color=\"red\",linestyle='--')\n",
      "plt.plot([1,2,3,4],[3,7,9,8],color=\"blue\",linestyle='-.')\n",
      "plt.ylabel('y')\n",
      "plt.xlabel('x')\n",
      "plt.show()"
     ],
     "language": "python",
     "metadata": {},
     "outputs": [
      {
       "metadata": {},
       "output_type": "display_data",
       "png": "[encoded data removed]",
       "text": [
        "<matplotlib.figure.Figure at 0x10e3f4fd0>"
       ]
      }
     ],
     "prompt_number": 131
    },
    {
     "cell_type": "code",
     "collapsed": false,
     "input": [
      "file = open(\"AliceInWonderland.txt\")\n",
      "text = file.read()\n",
      "text = text.split()\n",
      "data = map(len, text)\n",
      "plt.hist(data,color=\"#ff6347\")\n",
      "plt.xlim(0,16)\n",
      "plt.show()"
     ],
     "language": "python",
     "metadata": {},
     "outputs": [
      {
       "metadata": {},
       "output_type": "display_data",
       "png": "[encoded data removed]",
       "text": [
        "<matplotlib.figure.Figure at 0x10e413210>"
       ]
      }
     ],
     "prompt_number": 132
    },
    {
     "cell_type": "code",
     "collapsed": false,
     "input": [
      "np.linspace(0.5,16.5,17)"
     ],
     "language": "python",
     "metadata": {},
     "outputs": [
      {
       "metadata": {},
       "output_type": "pyout",
       "prompt_number": 133,
       "text": [
        "array([  0.5,   1.5,   2.5,   3.5,   4.5,   5.5,   6.5,   7.5,   8.5,\n",
        "         9.5,  10.5,  11.5,  12.5,  13.5,  14.5,  15.5,  16.5])"
       ]
      }
     ],
     "prompt_number": 133
    },
    {
     "cell_type": "code",
     "collapsed": false,
     "input": [
      "plt.hist(data,bins=np.linspace(0.5,16.5,17),color=\"#ff6347\")\n",
      "plt.xlim(0,16)\n",
      "plt.title('Distribution of word lengths in P & P')\n",
      "plt.xlabel('word length')\n",
      "plt.ylabel('frequency')\n",
      "plt.show()"
     ],
     "language": "python",
     "metadata": {},
     "outputs": [
      {
       "metadata": {},
       "output_type": "display_data",
       "png": "[encoded data removed]",
       "text": [
        "<matplotlib.figure.Figure at 0x10e41e8d0>"
       ]
      }
     ],
     "prompt_number": 134
    },
    {
     "cell_type": "heading",
     "level": 2,
     "metadata": {},
     "source": [
      "<font color=#505050 size=4 face='arial black'>tabular data</font>\n",
      "<br>"
     ]
    },
    {
     "cell_type": "code",
     "collapsed": false,
     "input": [
      "#http://pandas.pydata.org/\n",
      "import pandas as pd"
     ],
     "language": "python",
     "metadata": {},
     "outputs": [],
     "prompt_number": 135
    },
    {
     "cell_type": "code",
     "collapsed": false,
     "input": [
      "data = pd.read_csv(\"iris.csv\")\n",
      "print data"
     ],
     "language": "python",
     "metadata": {},
     "outputs": [
      {
       "output_type": "stream",
       "stream": "stdout",
       "text": [
        "     Species  sepal length  sepal width  petal length  petal width\n",
        "0          0           5.1          3.5           1.4          0.2\n",
        "1          0           4.9          3.0           1.4          0.2\n",
        "2          0           4.7          3.2           1.3          0.2\n",
        "3          0           4.6          3.1           1.5          0.2\n",
        "4          0           5.0          3.6           1.4          0.2\n",
        "5          0           5.4          3.9           1.7          0.4\n",
        "6          0           4.6          3.4           1.4          0.3\n",
        "7          0           5.0          3.4           1.5          0.2\n",
        "8          0           4.4          2.9           1.4          0.2\n",
        "9          0           4.9          3.1           1.5          0.1\n",
        "10         0           5.4          3.7           1.5          0.2\n",
        "11         0           4.8          3.4           1.6          0.2\n",
        "12         0           4.8          3.0           1.4          0.1\n",
        "13         0           4.3          3.0           1.1          0.1\n",
        "14         0           5.8          4.0           1.2          0.2\n",
        "15         0           5.7          4.4           1.5          0.4\n",
        "16         0           5.4          3.9           1.3          0.4\n",
        "17         0           5.1          3.5           1.4          0.3\n",
        "18         0           5.7          3.8           1.7          0.3\n",
        "19         0           5.1          3.8           1.5          0.3\n",
        "20         0           5.4          3.4           1.7          0.2\n",
        "21         0           5.1          3.7           1.5          0.4\n",
        "22         0           4.6          3.6           1.0          0.2\n",
        "23         0           5.1          3.3           1.7          0.5\n",
        "24         0           4.8          3.4           1.9          0.2\n",
        "25         0           5.0          3.0           1.6          0.2\n",
        "26         0           5.0          3.4           1.6          0.4\n",
        "27         0           5.2          3.5           1.5          0.2\n",
        "28         0           5.2          3.4           1.4          0.2\n",
        "29         0           4.7          3.2           1.6          0.2\n",
        "..       ...           ...          ...           ...          ...\n",
        "120        2           6.9          3.2           5.7          2.3\n",
        "121        2           5.6          2.8           4.9          2.0\n",
        "122        2           7.7          2.8           6.7          2.0\n",
        "123        2           6.3          2.7           4.9          1.8\n",
        "124        2           6.7          3.3           5.7          2.1\n",
        "125        2           7.2          3.2           6.0          1.8\n",
        "126        2           6.2          2.8           4.8          1.8\n",
        "127        2           6.1          3.0           4.9          1.8\n",
        "128        2           6.4          2.8           5.6          2.1\n",
        "129        2           7.2          3.0           5.8          1.6\n",
        "130        2           7.4          2.8           6.1          1.9\n",
        "131        2           7.9          3.8           6.4          2.0\n",
        "132        2           6.4          2.8           5.6          2.2\n",
        "133        2           6.3          2.8           5.1          1.5\n",
        "134        2           6.1          2.6           5.6          1.4\n",
        "135        2           7.7          3.0           6.1          2.3\n",
        "136        2           6.3          3.4           5.6          2.4\n",
        "137        2           6.4          3.1           5.5          1.8\n",
        "138        2           6.0          3.0           4.8          1.8\n",
        "139        2           6.9          3.1           5.4          2.1\n",
        "140        2           6.7          3.1           5.6          2.4\n",
        "141        2           6.9          3.1           5.1          2.3\n",
        "142        2           5.8          2.7           5.1          1.9\n",
        "143        2           6.8          3.2           5.9          2.3\n",
        "144        2           6.7          3.3           5.7          2.5\n",
        "145        2           6.7          3.0           5.2          2.3\n",
        "146        2           6.3          2.5           5.0          1.9\n",
        "147        2           6.5          3.0           5.2          2.0\n",
        "148        2           6.2          3.4           5.4          2.3\n",
        "149        2           5.9          3.0           5.1          1.8\n",
        "\n",
        "[150 rows x 5 columns]\n"
       ]
      }
     ],
     "prompt_number": 136
    },
    {
     "cell_type": "code",
     "collapsed": false,
     "input": [
      "data.columns"
     ],
     "language": "python",
     "metadata": {},
     "outputs": [
      {
       "metadata": {},
       "output_type": "pyout",
       "prompt_number": 137,
       "text": [
        "Index([u'Species', u'sepal length', u'sepal width', u'petal length', u'petal width'], dtype='object')"
       ]
      }
     ],
     "prompt_number": 137
    },
    {
     "cell_type": "code",
     "collapsed": false,
     "input": [
      "data.index"
     ],
     "language": "python",
     "metadata": {},
     "outputs": [
      {
       "metadata": {},
       "output_type": "pyout",
       "prompt_number": 138,
       "text": [
        "Int64Index([0, 1, 2, 3, 4, 5, 6, 7, 8, 9, 10, 11, 12, 13, 14, 15, 16, 17, 18, 19, 20, 21, 22, 23, 24, 25, 26, 27, 28, 29, 30, 31, 32, 33, 34, 35, 36, 37, 38, 39, 40, 41, 42, 43, 44, 45, 46, 47, 48, 49, 50, 51, 52, 53, 54, 55, 56, 57, 58, 59, 60, 61, 62, 63, 64, 65, 66, 67, 68, 69, 70, 71, 72, 73, 74, 75, 76, 77, 78, 79, 80, 81, 82, 83, 84, 85, 86, 87, 88, 89, 90, 91, 92, 93, 94, 95, 96, 97, 98, 99, ...], dtype='int64')"
       ]
      }
     ],
     "prompt_number": 138
    },
    {
     "cell_type": "code",
     "collapsed": false,
     "input": [
      "data[\"sepal length\"]"
     ],
     "language": "python",
     "metadata": {},
     "outputs": [
      {
       "metadata": {},
       "output_type": "pyout",
       "prompt_number": 139,
       "text": [
        "0     5.1\n",
        "1     4.9\n",
        "2     4.7\n",
        "3     4.6\n",
        "4     5.0\n",
        "5     5.4\n",
        "6     4.6\n",
        "7     5.0\n",
        "8     4.4\n",
        "9     4.9\n",
        "10    5.4\n",
        "11    4.8\n",
        "12    4.8\n",
        "13    4.3\n",
        "14    5.8\n",
        "...\n",
        "135    7.7\n",
        "136    6.3\n",
        "137    6.4\n",
        "138    6.0\n",
        "139    6.9\n",
        "140    6.7\n",
        "141    6.9\n",
        "142    5.8\n",
        "143    6.8\n",
        "144    6.7\n",
        "145    6.7\n",
        "146    6.3\n",
        "147    6.5\n",
        "148    6.2\n",
        "149    5.9\n",
        "Name: sepal length, Length: 150, dtype: float64"
       ]
      }
     ],
     "prompt_number": 139
    },
    {
     "cell_type": "code",
     "collapsed": false,
     "input": [
      "print data.ix[0]\n",
      "print\n",
      "print data.ix[0,1:2]"
     ],
     "language": "python",
     "metadata": {},
     "outputs": [
      {
       "output_type": "stream",
       "stream": "stdout",
       "text": [
        "Species         0.0\n",
        "sepal length    5.1\n",
        "sepal width     3.5\n",
        "petal length    1.4\n",
        "petal width     0.2\n",
        "Name: 0, dtype: float64\n",
        "\n",
        "sepal length    5.1\n",
        "Name: 0, dtype: float64\n"
       ]
      }
     ],
     "prompt_number": 140
    },
    {
     "cell_type": "code",
     "collapsed": false,
     "input": [
      "plt.scatter(data[\"sepal length\"],data[\"sepal width\"],color=\"#ff6347\")"
     ],
     "language": "python",
     "metadata": {},
     "outputs": [
      {
       "metadata": {},
       "output_type": "pyout",
       "prompt_number": 142,
       "text": [
        "<matplotlib.collections.PathCollection at 0x111b1aa50>"
       ]
      },
      {
       "metadata": {},
       "output_type": "display_data",
       "png": "[encoded data removed]",
       "text": [
        "<matplotlib.figure.Figure at 0x111a84a90>"
       ]
      }
     ],
     "prompt_number": 142
    },
    {
     "cell_type": "markdown",
     "metadata": {},
     "source": [
      "<br><center><font color=#ff6347 size=6 face='arial black'>Objectives of the Workshop</font></center><br>\n",
      "\n",
      "<font color=#505050 size=3 face='arial black'>\n",
      "\n",
      "<p>Before leaving the workshop:</p>\n",
      "<ol>\n",
      "\n",
      "<font color=#505050><li>Know how to talk to the python interpreter</li><br></font>\n",
      "\n",
      "<font color=#505050><li>Learn a few functions and apply them to ints, floats and strings</li><br></font>\n",
      "\n",
      "<font color=#505050><li>Manipulate lists and dictionaries</li><br></font>\n",
      "\n",
      "<font color=#505050><li>Read data into python from the internet and from files</li><br></font>\n",
      "\n",
      "<font color=#505050><li>Import additional commands into python</li><br></font>\n",
      "</ol>\n",
      "\n",
      "</font>"
     ]
    },
    {
     "cell_type": "markdown",
     "metadata": {},
     "source": [
      "<br><br><center><font color=#ff6347 size=6 face='arial black'>Future directions</font></center><br>\n",
      "\n",
      "<font color=#505050 size=4 face='arial black'>\n",
      "<font color=#ff6347 size=4 face='arial black'>Style guide</font> <br>\n",
      "&nbsp;&nbsp;&nbsp;&nbsp; official python style guide: <a href=\"http://legacy.python.org/dev/peps/pep-0008/\">PEP-8</a>\n",
      "<br><br>\n",
      "<font color=#ff6347>Graphics</font> <br>\n",
      "&nbsp;&nbsp;&nbsp;&nbsp; matplotlib, seaborn <br><br>\n",
      "\n",
      "<font color=#505050 size=4 face='arial black'>\n",
      "<font color=#ff6347>Webscraping</font> <br>\n",
      "&nbsp;&nbsp;&nbsp;&nbsp; urllib2, lxml, BeautifulSoup <br><br>\n",
      "\n",
      "<font color=#ff6347>Quantitative Data Analysis</font> <br>\n",
      "&nbsp;&nbsp;&nbsp;&nbsp; numpy, scipy, scikit-learn, statsmodels <br><br>\n",
      "\n",
      "<font color=#ff6347>Text analysis</font> <br>\n",
      "&nbsp;&nbsp;&nbsp;&nbsp; string, nltk <br><br>\n",
      "\n",
      "<font color=#ff6347>Social Network Analysis</font> <br>\n",
      "&nbsp;&nbsp;&nbsp;&nbsp; igraph, networkx <br><br>\n",
      "\n",
      "<font color=#ff6347>Using python with R</font> <br>\n",
      "&nbsp;&nbsp;&nbsp;&nbsp; rpy2 <br><br>\n",
      "\n",
      " </font>\n",
      " <br><br>"
     ]
    },
    {
     "cell_type": "markdown",
     "metadata": {},
     "source": [
      "<br><br><br><center><font color=#ff6347 size=8 face='arial black'>Thanks for listening!</font></center><br><br>"
     ]
    },
    {
     "cell_type": "code",
     "collapsed": false,
     "input": [
      "%quickref math.exp"
     ],
     "language": "python",
     "metadata": {},
     "outputs": []
    },
    {
     "cell_type": "code",
     "collapsed": false,
     "input": [],
     "language": "python",
     "metadata": {},
     "outputs": []
    }
   ],
   "metadata": {}
  }
 ]
}